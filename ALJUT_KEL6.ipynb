{
  "cells": [
    {
      "attachments": {},
      "cell_type": "markdown",
      "id": "38e947ae",
      "metadata": {
        "id": "38e947ae",
        "papermill": {
          "duration": 0.018071,
          "end_time": "2023-06-18T18:38:02.298170",
          "exception": false,
          "start_time": "2023-06-18T18:38:02.280099",
          "status": "completed"
        },
        "tags": []
      },
      "source": [
        "# Data Science Salaries EDA & Visualization\n",
        "\n",
        " In this notebook I am going to explore and visualize the dataset of (Data Science Salaries 2023 💸) from kaggle, the dataset contains salaries of different Data Science fields in the Data Science Domain."
      ]
    },
    {
      "attachments": {},
      "cell_type": "markdown",
      "id": "2f159ffa",
      "metadata": {
        "id": "2f159ffa",
        "papermill": {
          "duration": 0.013599,
          "end_time": "2023-06-18T18:38:02.326654",
          "exception": false,
          "start_time": "2023-06-18T18:38:02.313055",
          "status": "completed"
        },
        "tags": []
      },
      "source": [
        "## About the Dataset\n",
        "\n",
        "**Data Science Job Salaries Dataset contains 11 columns, each are:**\n",
        "\n",
        " *work_year*: The year the salary was paid.\n",
        "\n",
        " *experience_level*: The experience level in the job during the year\n",
        "* EN, refers to Entry-level / Junior.\n",
        "* MI, refers to Mid-level / Intermediate.\n",
        "* SE, refers to Senior-level / Expert.\n",
        "* EX, refers to Executive-level / Director.\n",
        "\n",
        "\n",
        " *employment_type*: The type of employment for the role\n",
        "* PT,refers to Part-time\n",
        "* FT,refers to Full-time\n",
        "* CT,refers to Contract\n",
        "* FL,refers to Freelance\n",
        "\n",
        "\n",
        " *job_title*: The role worked in during the year.\n",
        "\n",
        " *salary*: The total gross salary amount paid.\n",
        "\n",
        " *salary_currency*: The currency of the salary paid as an ISO 4217 currency code.\n",
        "\n",
        " *salaryinusd*: The salary in USD\n",
        "\n",
        " *employee_residence*: Employee's primary country of residence in during the work year as an ISO 3166 country code.\n",
        "\n",
        " *remote_ratio*: The overall amount of work done remotely\n",
        "\n",
        " *company_location*: The country of the employer's main office or contracting branch\n",
        "\n",
        " *company_size*: The median number of people that worked for the company during the year"
      ]
    },
    {
      "attachments": {},
      "cell_type": "markdown",
      "id": "134803cc",
      "metadata": {
        "id": "134803cc",
        "papermill": {
          "duration": 0.013745,
          "end_time": "2023-06-18T18:38:02.353812",
          "exception": false,
          "start_time": "2023-06-18T18:38:02.340067",
          "status": "completed"
        },
        "tags": []
      },
      "source": [
        "Let's begin by downloading the data, and listing the files within the dataset."
      ]
    },
    {
      "attachments": {},
      "cell_type": "markdown",
      "id": "339c161a",
      "metadata": {
        "id": "339c161a",
        "papermill": {
          "duration": 0.013194,
          "end_time": "2023-06-18T18:38:02.381390",
          "exception": false,
          "start_time": "2023-06-18T18:38:02.368196",
          "status": "completed"
        },
        "tags": []
      },
      "source": [
        "The dataset has been downloaded and extracted."
      ]
    },
    {
      "cell_type": "code",
      "execution_count": 1,
      "id": "qKlrwA-JGeb2",
      "metadata": {
        "id": "qKlrwA-JGeb2"
      },
      "outputs": [
        {
          "name": "stdout",
          "output_type": "stream",
          "text": [
            "\u001b[33mWARNING: Retrying (Retry(total=4, connect=None, read=None, redirect=None, status=None)) after connection broken by 'ReadTimeoutError(\"HTTPSConnectionPool(host='pypi.org', port=443): Read timed out. (read timeout=15)\")': /simple/kaggle/\u001b[0m\n",
            "Collecting kaggle\n",
            "  Downloading kaggle-1.5.13.tar.gz (63 kB)\n",
            "\u001b[K     |████████████████████████████████| 63 kB 1.3 MB/s eta 0:00:011\n",
            "\u001b[?25hRequirement already satisfied: six>=1.10 in /Users/rijal/.pyenv/versions/anaconda3-2022.05/lib/python3.9/site-packages (from kaggle) (1.16.0)\n",
            "Requirement already satisfied: certifi in /Users/rijal/.pyenv/versions/anaconda3-2022.05/lib/python3.9/site-packages (from kaggle) (2022.5.18.1)\n",
            "Requirement already satisfied: python-dateutil in /Users/rijal/.pyenv/versions/anaconda3-2022.05/lib/python3.9/site-packages (from kaggle) (2.8.2)\n",
            "Requirement already satisfied: requests in /Users/rijal/.pyenv/versions/anaconda3-2022.05/lib/python3.9/site-packages (from kaggle) (2.27.1)\n",
            "Requirement already satisfied: tqdm in /Users/rijal/.pyenv/versions/anaconda3-2022.05/lib/python3.9/site-packages (from kaggle) (4.64.0)\n",
            "Collecting python-slugify\n",
            "  Downloading python_slugify-8.0.1-py2.py3-none-any.whl (9.7 kB)\n",
            "Requirement already satisfied: urllib3 in /Users/rijal/.pyenv/versions/anaconda3-2022.05/lib/python3.9/site-packages (from kaggle) (1.26.9)\n",
            "Collecting text-unidecode>=1.3\n",
            "  Downloading text_unidecode-1.3-py2.py3-none-any.whl (78 kB)\n",
            "\u001b[K     |████████████████████████████████| 78 kB 5.1 MB/s eta 0:00:01\n",
            "\u001b[?25hRequirement already satisfied: idna<4,>=2.5 in /Users/rijal/.pyenv/versions/anaconda3-2022.05/lib/python3.9/site-packages (from requests->kaggle) (3.3)\n",
            "Requirement already satisfied: charset-normalizer~=2.0.0 in /Users/rijal/.pyenv/versions/anaconda3-2022.05/lib/python3.9/site-packages (from requests->kaggle) (2.0.4)\n",
            "Building wheels for collected packages: kaggle\n",
            "  Building wheel for kaggle (setup.py) ... \u001b[?25ldone\n",
            "\u001b[?25h  Created wheel for kaggle: filename=kaggle-1.5.13-py3-none-any.whl size=77733 sha256=c7fc7485acd03d49e2763f7d69471830966f9f16c75b63b6a35a38ee0f688728\n",
            "  Stored in directory: /Users/rijal/Library/Caches/pip/wheels/9c/45/15/6d6d116cd2539fb8f450d64b0aee4a480e5366bb11b42ac763\n",
            "Successfully built kaggle\n",
            "Installing collected packages: text-unidecode, python-slugify, kaggle\n",
            "Successfully installed kaggle-1.5.13 python-slugify-8.0.1 text-unidecode-1.3\n",
            "Collecting chart_studio\n",
            "  Downloading chart_studio-1.1.0-py3-none-any.whl (64 kB)\n",
            "\u001b[K     |████████████████████████████████| 64 kB 1.4 MB/s eta 0:00:011\n",
            "\u001b[?25hRequirement already satisfied: requests in /Users/rijal/.pyenv/versions/anaconda3-2022.05/lib/python3.9/site-packages (from chart_studio) (2.27.1)\n",
            "Requirement already satisfied: six in /Users/rijal/.pyenv/versions/anaconda3-2022.05/lib/python3.9/site-packages (from chart_studio) (1.16.0)\n",
            "Requirement already satisfied: plotly in /Users/rijal/.pyenv/versions/anaconda3-2022.05/lib/python3.9/site-packages (from chart_studio) (5.6.0)\n",
            "Collecting retrying>=1.3.3\n",
            "  Downloading retrying-1.3.4-py3-none-any.whl (11 kB)\n",
            "Requirement already satisfied: tenacity>=6.2.0 in /Users/rijal/.pyenv/versions/anaconda3-2022.05/lib/python3.9/site-packages (from plotly->chart_studio) (8.0.1)\n",
            "Requirement already satisfied: certifi>=2017.4.17 in /Users/rijal/.pyenv/versions/anaconda3-2022.05/lib/python3.9/site-packages (from requests->chart_studio) (2022.5.18.1)\n",
            "Requirement already satisfied: charset-normalizer~=2.0.0 in /Users/rijal/.pyenv/versions/anaconda3-2022.05/lib/python3.9/site-packages (from requests->chart_studio) (2.0.4)\n",
            "Requirement already satisfied: urllib3<1.27,>=1.21.1 in /Users/rijal/.pyenv/versions/anaconda3-2022.05/lib/python3.9/site-packages (from requests->chart_studio) (1.26.9)\n",
            "Requirement already satisfied: idna<4,>=2.5 in /Users/rijal/.pyenv/versions/anaconda3-2022.05/lib/python3.9/site-packages (from requests->chart_studio) (3.3)\n",
            "Installing collected packages: retrying, chart-studio\n",
            "Successfully installed chart-studio-1.1.0 retrying-1.3.4\n",
            "Requirement already satisfied: plotly in /Users/rijal/.pyenv/versions/anaconda3-2022.05/lib/python3.9/site-packages (5.6.0)\n",
            "Requirement already satisfied: tenacity>=6.2.0 in /Users/rijal/.pyenv/versions/anaconda3-2022.05/lib/python3.9/site-packages (from plotly) (8.0.1)\n",
            "Requirement already satisfied: six in /Users/rijal/.pyenv/versions/anaconda3-2022.05/lib/python3.9/site-packages (from plotly) (1.16.0)\n",
            "Collecting tensorflow\n",
            "  Using cached tensorflow-2.13.0rc1-cp39-cp39-macosx_12_0_arm64.whl (2.0 kB)\n",
            "Collecting tensorflow-macos==2.13.0-rc1\n",
            "  Downloading tensorflow_macos-2.13.0rc1-cp39-cp39-macosx_12_0_arm64.whl (189.3 MB)\n",
            "\u001b[K     |████████████████████████████████| 189.3 MB 92 kB/s  eta 0:00:01�████▍      | 150.3 MB 2.0 MB/s eta 0:00:20�████████████████████▋      | 151.3 MB 2.0 MB/s eta 0:00:19     |████████████████████████████████| 188.7 MB 5.2 MB/s eta 0:00:01\n",
            "\u001b[?25hCollecting opt-einsum>=2.3.2\n",
            "  Downloading opt_einsum-3.3.0-py3-none-any.whl (65 kB)\n",
            "\u001b[K     |████████████████████████████████| 65 kB 7.5 MB/s eta 0:00:0101\n",
            "\u001b[?25hRequirement already satisfied: h5py>=2.9.0 in /Users/rijal/.pyenv/versions/anaconda3-2022.05/lib/python3.9/site-packages (from tensorflow-macos==2.13.0-rc1->tensorflow) (3.6.0)\n",
            "Collecting google-pasta>=0.1.1\n",
            "  Downloading google_pasta-0.2.0-py3-none-any.whl (57 kB)\n",
            "\u001b[K     |████████████████████████████████| 57 kB 5.0 MB/s eta 0:00:01\n",
            "\u001b[?25hCollecting libclang>=13.0.0\n",
            "  Downloading libclang-16.0.0-py2.py3-none-macosx_11_0_arm64.whl (24.3 MB)\n",
            "\u001b[K     |████████████████████████████████| 24.3 MB 3.3 MB/s eta 0:00:01\n",
            "\u001b[?25hCollecting flatbuffers>=23.1.21\n",
            "  Downloading flatbuffers-23.5.26-py2.py3-none-any.whl (26 kB)\n",
            "Collecting grpcio<2.0,>=1.24.3\n",
            "  Downloading grpcio-1.54.2-cp39-cp39-macosx_10_10_universal2.whl (8.7 MB)\n",
            "\u001b[K     |████████████████████████████████| 8.7 MB 5.6 MB/s eta 0:00:01\n",
            "\u001b[?25hRequirement already satisfied: wrapt>=1.11.0 in /Users/rijal/.pyenv/versions/anaconda3-2022.05/lib/python3.9/site-packages (from tensorflow-macos==2.13.0-rc1->tensorflow) (1.13.3)\n",
            "Collecting keras<2.14,>=2.13.1rc0\n",
            "  Downloading keras-2.13.1rc0-py3-none-any.whl (1.7 MB)\n",
            "\u001b[K     |████████████████████████████████| 1.7 MB 6.3 MB/s eta 0:00:01\n",
            "\u001b[?25hRequirement already satisfied: packaging in /Users/rijal/.pyenv/versions/anaconda3-2022.05/lib/python3.9/site-packages (from tensorflow-macos==2.13.0-rc1->tensorflow) (21.3)\n",
            "Collecting gast<=0.4.0,>=0.2.1\n",
            "  Downloading gast-0.4.0-py3-none-any.whl (9.8 kB)\n",
            "Collecting numpy>=1.22\n",
            "  Downloading numpy-1.25.0-cp39-cp39-macosx_11_0_arm64.whl (14.0 MB)\n",
            "\u001b[K     |████████████████████████████████| 14.0 MB 6.2 MB/s eta 0:00:01\n",
            "\u001b[?25hCollecting termcolor>=1.1.0\n",
            "  Downloading termcolor-2.3.0-py3-none-any.whl (6.9 kB)\n",
            "Collecting tensorboard<2.14,>=2.13\n",
            "  Downloading tensorboard-2.13.0-py3-none-any.whl (5.6 MB)\n",
            "\u001b[K     |████████████████████████████████| 5.6 MB 3.9 MB/s eta 0:00:01\n",
            "\u001b[?25hCollecting astunparse>=1.6.0\n",
            "  Downloading astunparse-1.6.3-py2.py3-none-any.whl (12 kB)\n",
            "Requirement already satisfied: typing-extensions>=3.6.6 in /Users/rijal/.pyenv/versions/anaconda3-2022.05/lib/python3.9/site-packages (from tensorflow-macos==2.13.0-rc1->tensorflow) (4.1.1)\n",
            "Collecting protobuf!=4.21.0,!=4.21.1,!=4.21.2,!=4.21.3,!=4.21.4,!=4.21.5,<5.0.0dev,>=3.20.3\n",
            "  Downloading protobuf-4.23.3-cp37-abi3-macosx_10_9_universal2.whl (400 kB)\n",
            "\u001b[K     |████████████████████████████████| 400 kB 5.1 MB/s eta 0:00:01\n",
            "\u001b[?25hCollecting absl-py>=1.0.0\n",
            "  Downloading absl_py-1.4.0-py3-none-any.whl (126 kB)\n",
            "\u001b[K     |████████████████████████████████| 126 kB 5.0 MB/s eta 0:00:01\n",
            "\u001b[?25hRequirement already satisfied: setuptools in /Users/rijal/.pyenv/versions/anaconda3-2022.05/lib/python3.9/site-packages (from tensorflow-macos==2.13.0-rc1->tensorflow) (61.2.0)\n",
            "Collecting tensorflow-estimator<2.14,>=2.13.0rc0\n",
            "  Downloading tensorflow_estimator-2.13.0rc0-py2.py3-none-any.whl (440 kB)\n",
            "\u001b[K     |████████████████████████████████| 440 kB 5.2 MB/s eta 0:00:01\n",
            "\u001b[?25hRequirement already satisfied: six>=1.12.0 in /Users/rijal/.pyenv/versions/anaconda3-2022.05/lib/python3.9/site-packages (from tensorflow-macos==2.13.0-rc1->tensorflow) (1.16.0)\n",
            "Requirement already satisfied: wheel<1.0,>=0.23.0 in /Users/rijal/.pyenv/versions/anaconda3-2022.05/lib/python3.9/site-packages (from astunparse>=1.6.0->tensorflow-macos==2.13.0-rc1->tensorflow) (0.37.1)\n",
            "Requirement already satisfied: requests<3,>=2.21.0 in /Users/rijal/.pyenv/versions/anaconda3-2022.05/lib/python3.9/site-packages (from tensorboard<2.14,>=2.13->tensorflow-macos==2.13.0-rc1->tensorflow) (2.27.1)\n",
            "Collecting tensorboard-data-server<0.8.0,>=0.7.0\n",
            "  Downloading tensorboard_data_server-0.7.1-py3-none-any.whl (2.4 kB)\n",
            "Requirement already satisfied: markdown>=2.6.8 in /Users/rijal/.pyenv/versions/anaconda3-2022.05/lib/python3.9/site-packages (from tensorboard<2.14,>=2.13->tensorflow-macos==2.13.0-rc1->tensorflow) (3.3.4)\n",
            "Collecting google-auth<3,>=1.6.3\n",
            "  Downloading google_auth-2.20.0-py2.py3-none-any.whl (181 kB)\n",
            "\u001b[K     |████████████████████████████████| 181 kB 5.9 MB/s eta 0:00:01\n",
            "\u001b[?25hRequirement already satisfied: werkzeug>=1.0.1 in /Users/rijal/.pyenv/versions/anaconda3-2022.05/lib/python3.9/site-packages (from tensorboard<2.14,>=2.13->tensorflow-macos==2.13.0-rc1->tensorflow) (2.0.3)\n",
            "Collecting google-auth-oauthlib<1.1,>=0.5\n",
            "  Downloading google_auth_oauthlib-1.0.0-py2.py3-none-any.whl (18 kB)\n",
            "Requirement already satisfied: urllib3<2.0 in /Users/rijal/.pyenv/versions/anaconda3-2022.05/lib/python3.9/site-packages (from google-auth<3,>=1.6.3->tensorboard<2.14,>=2.13->tensorflow-macos==2.13.0-rc1->tensorflow) (1.26.9)\n",
            "Requirement already satisfied: pyasn1-modules>=0.2.1 in /Users/rijal/.pyenv/versions/anaconda3-2022.05/lib/python3.9/site-packages (from google-auth<3,>=1.6.3->tensorboard<2.14,>=2.13->tensorflow-macos==2.13.0-rc1->tensorflow) (0.2.8)\n",
            "Collecting cachetools<6.0,>=2.0.0\n",
            "  Downloading cachetools-5.3.1-py3-none-any.whl (9.3 kB)\n",
            "Collecting rsa<5,>=3.1.4\n",
            "  Downloading rsa-4.9-py3-none-any.whl (34 kB)\n",
            "Collecting requests-oauthlib>=0.7.0\n",
            "  Downloading requests_oauthlib-1.3.1-py2.py3-none-any.whl (23 kB)\n",
            "Requirement already satisfied: pyasn1<0.5.0,>=0.4.6 in /Users/rijal/.pyenv/versions/anaconda3-2022.05/lib/python3.9/site-packages (from pyasn1-modules>=0.2.1->google-auth<3,>=1.6.3->tensorboard<2.14,>=2.13->tensorflow-macos==2.13.0-rc1->tensorflow) (0.4.8)\n",
            "Requirement already satisfied: idna<4,>=2.5 in /Users/rijal/.pyenv/versions/anaconda3-2022.05/lib/python3.9/site-packages (from requests<3,>=2.21.0->tensorboard<2.14,>=2.13->tensorflow-macos==2.13.0-rc1->tensorflow) (3.3)\n",
            "Requirement already satisfied: certifi>=2017.4.17 in /Users/rijal/.pyenv/versions/anaconda3-2022.05/lib/python3.9/site-packages (from requests<3,>=2.21.0->tensorboard<2.14,>=2.13->tensorflow-macos==2.13.0-rc1->tensorflow) (2022.5.18.1)\n",
            "Requirement already satisfied: charset-normalizer~=2.0.0 in /Users/rijal/.pyenv/versions/anaconda3-2022.05/lib/python3.9/site-packages (from requests<3,>=2.21.0->tensorboard<2.14,>=2.13->tensorflow-macos==2.13.0-rc1->tensorflow) (2.0.4)\n",
            "Collecting oauthlib>=3.0.0\n",
            "  Downloading oauthlib-3.2.2-py3-none-any.whl (151 kB)\n",
            "\u001b[K     |████████████████████████████████| 151 kB 5.7 MB/s eta 0:00:01\n",
            "\u001b[?25hRequirement already satisfied: pyparsing!=3.0.5,>=2.0.2 in /Users/rijal/.pyenv/versions/anaconda3-2022.05/lib/python3.9/site-packages (from packaging->tensorflow-macos==2.13.0-rc1->tensorflow) (3.0.4)\n",
            "Installing collected packages: rsa, oauthlib, cachetools, requests-oauthlib, google-auth, tensorboard-data-server, protobuf, numpy, grpcio, google-auth-oauthlib, absl-py, termcolor, tensorflow-estimator, tensorboard, opt-einsum, libclang, keras, google-pasta, gast, flatbuffers, astunparse, tensorflow-macos, tensorflow\n",
            "  Attempting uninstall: numpy\n",
            "    Found existing installation: numpy 1.21.5\n",
            "    Uninstalling numpy-1.21.5:\n",
            "      Successfully uninstalled numpy-1.21.5\n",
            "\u001b[31mERROR: pip's dependency resolver does not currently take into account all the packages that are installed. This behaviour is the source of the following dependency conflicts.\n",
            "scipy 1.7.3 requires numpy<1.23.0,>=1.16.5, but you have numpy 1.25.0 which is incompatible.\n",
            "numba 0.55.1 requires numpy<1.22,>=1.18, but you have numpy 1.25.0 which is incompatible.\u001b[0m\n",
            "Successfully installed absl-py-1.4.0 astunparse-1.6.3 cachetools-5.3.1 flatbuffers-23.5.26 gast-0.4.0 google-auth-2.20.0 google-auth-oauthlib-1.0.0 google-pasta-0.2.0 grpcio-1.54.2 keras-2.13.1rc0 libclang-16.0.0 numpy-1.25.0 oauthlib-3.2.2 opt-einsum-3.3.0 protobuf-4.23.3 requests-oauthlib-1.3.1 rsa-4.9 tensorboard-2.13.0 tensorboard-data-server-0.7.1 tensorflow-2.13.0rc1 tensorflow-estimator-2.13.0rc0 tensorflow-macos-2.13.0rc1 termcolor-2.3.0\n",
            "\u001b[33mWARNING: Retrying (Retry(total=4, connect=None, read=None, redirect=None, status=None)) after connection broken by 'ReadTimeoutError(\"HTTPSConnectionPool(host='pypi.org', port=443): Read timed out. (read timeout=15)\")': /simple/pandas-profiling/\u001b[0m\n",
            "\u001b[33mWARNING: Retrying (Retry(total=3, connect=None, read=None, redirect=None, status=None)) after connection broken by 'ReadTimeoutError(\"HTTPSConnectionPool(host='pypi.org', port=443): Read timed out. (read timeout=15)\")': /simple/pandas-profiling/\u001b[0m\n",
            "Collecting pandas-profiling\n",
            "  Downloading pandas_profiling-3.6.6-py2.py3-none-any.whl (324 kB)\n",
            "\u001b[K     |████████████████████████████████| 324 kB 1.2 MB/s eta 0:00:01\n",
            "\u001b[?25hCollecting ydata-profiling\n",
            "  Downloading ydata_profiling-4.2.0-py2.py3-none-any.whl (352 kB)\n",
            "\u001b[K     |████████████████████████████████| 352 kB 13.3 MB/s eta 0:00:01\n",
            "\u001b[?25hRequirement already satisfied: tqdm<5,>=4.48.2 in /Users/rijal/.pyenv/versions/anaconda3-2022.05/lib/python3.9/site-packages (from ydata-profiling->pandas-profiling) (4.64.0)\n",
            "Collecting wordcloud>=1.9.1\n",
            "  Downloading wordcloud-1.9.2.tar.gz (222 kB)\n",
            "\u001b[K     |████████████████████████████████| 222 kB 14.5 MB/s eta 0:00:01\n",
            "\u001b[?25hCollecting visions[type_image_path]==0.7.5\n",
            "  Downloading visions-0.7.5-py3-none-any.whl (102 kB)\n",
            "\u001b[K     |████████████████████████████████| 102 kB 33.8 MB/s eta 0:00:01\n",
            "\u001b[?25hRequirement already satisfied: requests<3,>=2.24.0 in /Users/rijal/.pyenv/versions/anaconda3-2022.05/lib/python3.9/site-packages (from ydata-profiling->pandas-profiling) (2.27.1)\n",
            "Requirement already satisfied: seaborn<0.13,>=0.10.1 in /Users/rijal/.pyenv/versions/anaconda3-2022.05/lib/python3.9/site-packages (from ydata-profiling->pandas-profiling) (0.11.2)\n",
            "Requirement already satisfied: pandas!=1.4.0,<2,>1.1 in /Users/rijal/.pyenv/versions/anaconda3-2022.05/lib/python3.9/site-packages (from ydata-profiling->pandas-profiling) (1.4.2)\n",
            "Requirement already satisfied: scipy<1.11,>=1.4.1 in /Users/rijal/.pyenv/versions/anaconda3-2022.05/lib/python3.9/site-packages (from ydata-profiling->pandas-profiling) (1.7.3)\n",
            "Requirement already satisfied: statsmodels<1,>=0.13.2 in /Users/rijal/.pyenv/versions/anaconda3-2022.05/lib/python3.9/site-packages (from ydata-profiling->pandas-profiling) (0.13.2)\n",
            "Requirement already satisfied: jinja2<3.2,>=2.11.1 in /Users/rijal/.pyenv/versions/anaconda3-2022.05/lib/python3.9/site-packages (from ydata-profiling->pandas-profiling) (2.11.3)\n",
            "Requirement already satisfied: matplotlib<4,>=3.2 in /Users/rijal/.pyenv/versions/anaconda3-2022.05/lib/python3.9/site-packages (from ydata-profiling->pandas-profiling) (3.5.1)\n",
            "Collecting imagehash==4.3.1\n",
            "  Downloading ImageHash-4.3.1-py2.py3-none-any.whl (296 kB)\n",
            "\u001b[K     |████████████████████████████████| 296 kB 17.8 MB/s eta 0:00:01\n",
            "\u001b[?25hCollecting pydantic<2,>=1.8.1\n",
            "  Downloading pydantic-1.10.9-cp39-cp39-macosx_11_0_arm64.whl (2.6 MB)\n",
            "\u001b[K     |████████████████████████████████| 2.6 MB 16.9 MB/s eta 0:00:01\n",
            "\u001b[?25hCollecting phik<0.13,>=0.11.1\n",
            "  Downloading phik-0.12.3-cp39-cp39-macosx_11_0_arm64.whl (649 kB)\n",
            "\u001b[K     |████████████████████████████████| 649 kB 4.8 MB/s eta 0:00:01\n",
            "\u001b[?25hCollecting numpy<1.24,>=1.16.0\n",
            "  Downloading numpy-1.23.5-cp39-cp39-macosx_11_0_arm64.whl (13.4 MB)\n",
            "\u001b[K     |████████████████████████████████| 13.4 MB 4.7 MB/s eta 0:00:01\n",
            "\u001b[?25hCollecting htmlmin==0.1.12\n",
            "  Downloading htmlmin-0.1.12.tar.gz (19 kB)\n",
            "Collecting dacite>=1.8\n",
            "  Downloading dacite-1.8.1-py3-none-any.whl (14 kB)\n",
            "Collecting multimethod<2,>=1.4\n",
            "  Downloading multimethod-1.9.1-py3-none-any.whl (10 kB)\n",
            "Requirement already satisfied: PyYAML<6.1,>=5.0.0 in /Users/rijal/.pyenv/versions/anaconda3-2022.05/lib/python3.9/site-packages (from ydata-profiling->pandas-profiling) (6.0)\n",
            "Collecting typeguard<3,>=2.13.2\n",
            "  Downloading typeguard-2.13.3-py3-none-any.whl (17 kB)\n",
            "Requirement already satisfied: pillow in /Users/rijal/.pyenv/versions/anaconda3-2022.05/lib/python3.9/site-packages (from imagehash==4.3.1->ydata-profiling->pandas-profiling) (9.0.1)\n",
            "Requirement already satisfied: PyWavelets in /Users/rijal/.pyenv/versions/anaconda3-2022.05/lib/python3.9/site-packages (from imagehash==4.3.1->ydata-profiling->pandas-profiling) (1.3.0)\n",
            "Requirement already satisfied: networkx>=2.4 in /Users/rijal/.pyenv/versions/anaconda3-2022.05/lib/python3.9/site-packages (from visions[type_image_path]==0.7.5->ydata-profiling->pandas-profiling) (2.7.1)\n",
            "Collecting tangled-up-in-unicode>=0.0.4\n",
            "  Downloading tangled_up_in_unicode-0.2.0-py3-none-any.whl (4.7 MB)\n",
            "\u001b[K     |████████████████████████████████| 4.7 MB 383 kB/s eta 0:00:01\n",
            "\u001b[?25hRequirement already satisfied: attrs>=19.3.0 in /Users/rijal/.pyenv/versions/anaconda3-2022.05/lib/python3.9/site-packages (from visions[type_image_path]==0.7.5->ydata-profiling->pandas-profiling) (21.4.0)\n",
            "Requirement already satisfied: MarkupSafe>=0.23 in /Users/rijal/.pyenv/versions/anaconda3-2022.05/lib/python3.9/site-packages (from jinja2<3.2,>=2.11.1->ydata-profiling->pandas-profiling) (2.0.1)\n",
            "Requirement already satisfied: packaging>=20.0 in /Users/rijal/.pyenv/versions/anaconda3-2022.05/lib/python3.9/site-packages (from matplotlib<4,>=3.2->ydata-profiling->pandas-profiling) (21.3)\n",
            "Requirement already satisfied: fonttools>=4.22.0 in /Users/rijal/.pyenv/versions/anaconda3-2022.05/lib/python3.9/site-packages (from matplotlib<4,>=3.2->ydata-profiling->pandas-profiling) (4.25.0)\n",
            "Requirement already satisfied: pyparsing>=2.2.1 in /Users/rijal/.pyenv/versions/anaconda3-2022.05/lib/python3.9/site-packages (from matplotlib<4,>=3.2->ydata-profiling->pandas-profiling) (3.0.4)\n",
            "Requirement already satisfied: python-dateutil>=2.7 in /Users/rijal/.pyenv/versions/anaconda3-2022.05/lib/python3.9/site-packages (from matplotlib<4,>=3.2->ydata-profiling->pandas-profiling) (2.8.2)\n",
            "Requirement already satisfied: kiwisolver>=1.0.1 in /Users/rijal/.pyenv/versions/anaconda3-2022.05/lib/python3.9/site-packages (from matplotlib<4,>=3.2->ydata-profiling->pandas-profiling) (1.4.2)\n",
            "Requirement already satisfied: cycler>=0.10 in /Users/rijal/.pyenv/versions/anaconda3-2022.05/lib/python3.9/site-packages (from matplotlib<4,>=3.2->ydata-profiling->pandas-profiling) (0.11.0)\n",
            "Requirement already satisfied: pytz>=2020.1 in /Users/rijal/.pyenv/versions/anaconda3-2022.05/lib/python3.9/site-packages (from pandas!=1.4.0,<2,>1.1->ydata-profiling->pandas-profiling) (2021.3)\n",
            "Requirement already satisfied: joblib>=0.14.1 in /Users/rijal/.pyenv/versions/anaconda3-2022.05/lib/python3.9/site-packages (from phik<0.13,>=0.11.1->ydata-profiling->pandas-profiling) (1.1.0)\n",
            "Collecting typing-extensions>=4.2.0\n",
            "  Downloading typing_extensions-4.6.3-py3-none-any.whl (31 kB)\n",
            "Requirement already satisfied: six>=1.5 in /Users/rijal/.pyenv/versions/anaconda3-2022.05/lib/python3.9/site-packages (from python-dateutil>=2.7->matplotlib<4,>=3.2->ydata-profiling->pandas-profiling) (1.16.0)\n",
            "Requirement already satisfied: idna<4,>=2.5 in /Users/rijal/.pyenv/versions/anaconda3-2022.05/lib/python3.9/site-packages (from requests<3,>=2.24.0->ydata-profiling->pandas-profiling) (3.3)\n",
            "Requirement already satisfied: certifi>=2017.4.17 in /Users/rijal/.pyenv/versions/anaconda3-2022.05/lib/python3.9/site-packages (from requests<3,>=2.24.0->ydata-profiling->pandas-profiling) (2022.5.18.1)\n",
            "Requirement already satisfied: urllib3<1.27,>=1.21.1 in /Users/rijal/.pyenv/versions/anaconda3-2022.05/lib/python3.9/site-packages (from requests<3,>=2.24.0->ydata-profiling->pandas-profiling) (1.26.9)\n",
            "Requirement already satisfied: charset-normalizer~=2.0.0 in /Users/rijal/.pyenv/versions/anaconda3-2022.05/lib/python3.9/site-packages (from requests<3,>=2.24.0->ydata-profiling->pandas-profiling) (2.0.4)\n",
            "Collecting numpy<1.24,>=1.16.0\n",
            "  Downloading numpy-1.22.4-cp39-cp39-macosx_11_0_arm64.whl (12.8 MB)\n",
            "\u001b[K     |████████████████████████████████| 12.8 MB 3.9 MB/s eta 0:00:01\n",
            "\u001b[?25hRequirement already satisfied: patsy>=0.5.2 in /Users/rijal/.pyenv/versions/anaconda3-2022.05/lib/python3.9/site-packages (from statsmodels<1,>=0.13.2->ydata-profiling->pandas-profiling) (0.5.2)\n",
            "Building wheels for collected packages: htmlmin, wordcloud\n",
            "  Building wheel for htmlmin (setup.py) ... \u001b[?25ldone\n",
            "\u001b[?25h  Created wheel for htmlmin: filename=htmlmin-0.1.12-py3-none-any.whl size=27096 sha256=852862b74771ff58790217bba33c415fdff4e61de0f36bcf7f85ee371e7113e8\n",
            "  Stored in directory: /Users/rijal/Library/Caches/pip/wheels/1d/05/04/c6d7d3b66539d9e659ac6dfe81e2d0fd4c1a8316cc5a403300\n",
            "  Building wheel for wordcloud (setup.py) ... \u001b[?25ldone\n",
            "\u001b[?25h  Created wheel for wordcloud: filename=wordcloud-1.9.2-cp39-cp39-macosx_11_0_arm64.whl size=153398 sha256=5bcaf73b455472981a5637daec6ce098b4b0bc086190718814133bd5e82f2cd8\n",
            "  Stored in directory: /Users/rijal/Library/Caches/pip/wheels/fd/79/b1/1e0a49160de8dfb17c54736cc73759e1d26f9343b61c0d5441\n",
            "Successfully built htmlmin wordcloud\n",
            "Installing collected packages: numpy, tangled-up-in-unicode, multimethod, visions, typing-extensions, imagehash, wordcloud, typeguard, pydantic, phik, htmlmin, dacite, ydata-profiling, pandas-profiling\n",
            "  Attempting uninstall: numpy\n",
            "    Found existing installation: numpy 1.25.0\n",
            "    Uninstalling numpy-1.25.0:\n",
            "      Successfully uninstalled numpy-1.25.0\n",
            "  Attempting uninstall: typing-extensions\n",
            "    Found existing installation: typing-extensions 4.1.1\n",
            "    Uninstalling typing-extensions-4.1.1:\n",
            "      Successfully uninstalled typing-extensions-4.1.1\n",
            "\u001b[31mERROR: pip's dependency resolver does not currently take into account all the packages that are installed. This behaviour is the source of the following dependency conflicts.\n",
            "pylint 2.12.2 requires mccabe<0.7,>=0.6, but you have mccabe 0.7.0 which is incompatible.\n",
            "numba 0.55.1 requires numpy<1.22,>=1.18, but you have numpy 1.22.4 which is incompatible.\u001b[0m\n",
            "Successfully installed dacite-1.8.1 htmlmin-0.1.12 imagehash-4.3.1 multimethod-1.9.1 numpy-1.22.4 pandas-profiling-3.6.6 phik-0.12.3 pydantic-1.10.9 tangled-up-in-unicode-0.2.0 typeguard-2.13.3 typing-extensions-4.6.3 visions-0.7.5 wordcloud-1.9.2 ydata-profiling-4.2.0\n"
          ]
        }
      ],
      "source": [
        "!pip install kaggle\n",
        "!pip install chart_studio\n",
        "!pip install plotly\n",
        "!pip install tensorflow\n",
        "!pip install pandas-profiling"
      ]
    },
    {
      "cell_type": "code",
      "execution_count": null,
      "id": "LCuCIP_L_MaB",
      "metadata": {
        "colab": {
          "base_uri": "https://localhost:8080/"
        },
        "id": "LCuCIP_L_MaB",
        "outputId": "08fcf796-60d0-4e76-98d4-071dbc4bf44f"
      },
      "outputs": [
        {
          "name": "stderr",
          "output_type": "stream",
          "text": [
            "<ipython-input-13-a8f9e70ca1e7>:6: DeprecationWarning: `import pandas_profiling` is going to be deprecated by April 1st. Please use `import ydata_profiling` instead.\n",
            "  from pandas_profiling import ProfileReport\n"
          ]
        }
      ],
      "source": [
        "from numpy import array\n",
        "from numpy import mean\n",
        "from numpy import cov\n",
        "import numpy as np\n",
        "from numpy.linalg import eig\n",
        "from pandas_profiling import ProfileReport\n",
        "import pandas as pd\n",
        "import matplotlib.pyplot as plt\n",
        "import seaborn as sns\n",
        "import chart_studio.plotly as py\n",
        "import plotly.graph_objects as go\n",
        "import time\n",
        "import tensorflow as tf"
      ]
    },
    {
      "cell_type": "code",
      "execution_count": null,
      "id": "glIvB8-_F_Ii",
      "metadata": {
        "colab": {
          "base_uri": "https://localhost:8080/"
        },
        "id": "glIvB8-_F_Ii",
        "outputId": "e5e2cbdc-bafd-44d9-d4fe-b79edf4d10e8"
      },
      "outputs": [
        {
          "name": "stdout",
          "output_type": "stream",
          "text": [
            "2.12.0\n"
          ]
        }
      ],
      "source": [
        "print(tf.__version__)"
      ]
    },
    {
      "attachments": {},
      "cell_type": "markdown",
      "id": "GGffqgMuIeG6",
      "metadata": {
        "id": "GGffqgMuIeG6"
      },
      "source": [
        "<h2>import data from kaggle</h2>"
      ]
    },
    {
      "cell_type": "code",
      "execution_count": null,
      "id": "Codtm9kK_oQl",
      "metadata": {
        "id": "Codtm9kK_oQl"
      },
      "outputs": [],
      "source": [
        "!mkdir ~/.kaggle\n",
        "!cp kaggle.json ~/.kaggle\n",
        "!chmod 600 ~/.kaggle/kaggle.json"
      ]
    },
    {
      "cell_type": "code",
      "execution_count": null,
      "id": "RFDVxbu6_2lO",
      "metadata": {
        "colab": {
          "base_uri": "https://localhost:8080/"
        },
        "id": "RFDVxbu6_2lO",
        "outputId": "9fdff37e-1518-458b-a0a7-fb43af794111"
      },
      "outputs": [
        {
          "name": "stdout",
          "output_type": "stream",
          "text": [
            "data-science-salaries-2023.zip: Skipping, found more recently modified local copy (use --force to force download)\n",
            "Archive:  data-science-salaries-2023.zip\n",
            "  inflating: ds_salaries.csv         \n"
          ]
        }
      ],
      "source": [
        "!kaggle datasets download arnabchaki/data-science-salaries-2023\n",
        "!unzip data-science-salaries-2023.zip"
      ]
    },
    {
      "attachments": {},
      "cell_type": "markdown",
      "id": "b9d29841",
      "metadata": {
        "id": "b9d29841",
        "papermill": {
          "duration": 0.013888,
          "end_time": "2023-06-18T18:38:02.496300",
          "exception": false,
          "start_time": "2023-06-18T18:38:02.482412",
          "status": "completed"
        },
        "tags": []
      },
      "source": [
        "## Data Preparation and Cleaning"
      ]
    },
    {
      "cell_type": "code",
      "execution_count": 3,
      "id": "628767ed",
      "metadata": {
        "colab": {
          "base_uri": "https://localhost:8080/",
          "height": 341
        },
        "execution": {
          "iopub.execute_input": "2023-06-18T18:38:02.526535Z",
          "iopub.status.busy": "2023-06-18T18:38:02.526029Z",
          "iopub.status.idle": "2023-06-18T18:38:02.573308Z",
          "shell.execute_reply": "2023-06-18T18:38:02.571937Z"
        },
        "id": "628767ed",
        "outputId": "e7788d42-9774-4b8f-8e2f-d53968e7afdd",
        "papermill": {
          "duration": 0.065781,
          "end_time": "2023-06-18T18:38:02.576111",
          "exception": false,
          "start_time": "2023-06-18T18:38:02.510330",
          "status": "completed"
        },
        "tags": []
      },
      "outputs": [
        {
          "ename": "FileNotFoundError",
          "evalue": "ignored",
          "output_type": "error",
          "traceback": [
            "\u001b[0;31m---------------------------------------------------------------------------\u001b[0m",
            "\u001b[0;31mFileNotFoundError\u001b[0m                         Traceback (most recent call last)",
            "\u001b[0;32m<ipython-input-3-7be29b458077>\u001b[0m in \u001b[0;36m<cell line: 3>\u001b[0;34m()\u001b[0m\n\u001b[1;32m      1\u001b[0m \u001b[0;32mimport\u001b[0m \u001b[0mpandas\u001b[0m \u001b[0;32mas\u001b[0m \u001b[0mpd\u001b[0m\u001b[0;34m\u001b[0m\u001b[0;34m\u001b[0m\u001b[0m\n\u001b[1;32m      2\u001b[0m \u001b[0;34m\u001b[0m\u001b[0m\n\u001b[0;32m----> 3\u001b[0;31m \u001b[0mdata\u001b[0m \u001b[0;34m=\u001b[0m \u001b[0mpd\u001b[0m\u001b[0;34m.\u001b[0m\u001b[0mread_csv\u001b[0m\u001b[0;34m(\u001b[0m\u001b[0;34m\"ds_salaries.csv\"\u001b[0m\u001b[0;34m)\u001b[0m\u001b[0;34m\u001b[0m\u001b[0;34m\u001b[0m\u001b[0m\n\u001b[0m",
            "\u001b[0;32m/usr/local/lib/python3.10/dist-packages/pandas/util/_decorators.py\u001b[0m in \u001b[0;36mwrapper\u001b[0;34m(*args, **kwargs)\u001b[0m\n\u001b[1;32m    209\u001b[0m                 \u001b[0;32melse\u001b[0m\u001b[0;34m:\u001b[0m\u001b[0;34m\u001b[0m\u001b[0;34m\u001b[0m\u001b[0m\n\u001b[1;32m    210\u001b[0m                     \u001b[0mkwargs\u001b[0m\u001b[0;34m[\u001b[0m\u001b[0mnew_arg_name\u001b[0m\u001b[0;34m]\u001b[0m \u001b[0;34m=\u001b[0m \u001b[0mnew_arg_value\u001b[0m\u001b[0;34m\u001b[0m\u001b[0;34m\u001b[0m\u001b[0m\n\u001b[0;32m--> 211\u001b[0;31m             \u001b[0;32mreturn\u001b[0m \u001b[0mfunc\u001b[0m\u001b[0;34m(\u001b[0m\u001b[0;34m*\u001b[0m\u001b[0margs\u001b[0m\u001b[0;34m,\u001b[0m \u001b[0;34m**\u001b[0m\u001b[0mkwargs\u001b[0m\u001b[0;34m)\u001b[0m\u001b[0;34m\u001b[0m\u001b[0;34m\u001b[0m\u001b[0m\n\u001b[0m\u001b[1;32m    212\u001b[0m \u001b[0;34m\u001b[0m\u001b[0m\n\u001b[1;32m    213\u001b[0m         \u001b[0;32mreturn\u001b[0m \u001b[0mcast\u001b[0m\u001b[0;34m(\u001b[0m\u001b[0mF\u001b[0m\u001b[0;34m,\u001b[0m \u001b[0mwrapper\u001b[0m\u001b[0;34m)\u001b[0m\u001b[0;34m\u001b[0m\u001b[0;34m\u001b[0m\u001b[0m\n",
            "\u001b[0;32m/usr/local/lib/python3.10/dist-packages/pandas/util/_decorators.py\u001b[0m in \u001b[0;36mwrapper\u001b[0;34m(*args, **kwargs)\u001b[0m\n\u001b[1;32m    329\u001b[0m                     \u001b[0mstacklevel\u001b[0m\u001b[0;34m=\u001b[0m\u001b[0mfind_stack_level\u001b[0m\u001b[0;34m(\u001b[0m\u001b[0;34m)\u001b[0m\u001b[0;34m,\u001b[0m\u001b[0;34m\u001b[0m\u001b[0;34m\u001b[0m\u001b[0m\n\u001b[1;32m    330\u001b[0m                 )\n\u001b[0;32m--> 331\u001b[0;31m             \u001b[0;32mreturn\u001b[0m \u001b[0mfunc\u001b[0m\u001b[0;34m(\u001b[0m\u001b[0;34m*\u001b[0m\u001b[0margs\u001b[0m\u001b[0;34m,\u001b[0m \u001b[0;34m**\u001b[0m\u001b[0mkwargs\u001b[0m\u001b[0;34m)\u001b[0m\u001b[0;34m\u001b[0m\u001b[0;34m\u001b[0m\u001b[0m\n\u001b[0m\u001b[1;32m    332\u001b[0m \u001b[0;34m\u001b[0m\u001b[0m\n\u001b[1;32m    333\u001b[0m         \u001b[0;31m# error: \"Callable[[VarArg(Any), KwArg(Any)], Any]\" has no\u001b[0m\u001b[0;34m\u001b[0m\u001b[0;34m\u001b[0m\u001b[0m\n",
            "\u001b[0;32m/usr/local/lib/python3.10/dist-packages/pandas/io/parsers/readers.py\u001b[0m in \u001b[0;36mread_csv\u001b[0;34m(filepath_or_buffer, sep, delimiter, header, names, index_col, usecols, squeeze, prefix, mangle_dupe_cols, dtype, engine, converters, true_values, false_values, skipinitialspace, skiprows, skipfooter, nrows, na_values, keep_default_na, na_filter, verbose, skip_blank_lines, parse_dates, infer_datetime_format, keep_date_col, date_parser, dayfirst, cache_dates, iterator, chunksize, compression, thousands, decimal, lineterminator, quotechar, quoting, doublequote, escapechar, comment, encoding, encoding_errors, dialect, error_bad_lines, warn_bad_lines, on_bad_lines, delim_whitespace, low_memory, memory_map, float_precision, storage_options)\u001b[0m\n\u001b[1;32m    948\u001b[0m     \u001b[0mkwds\u001b[0m\u001b[0;34m.\u001b[0m\u001b[0mupdate\u001b[0m\u001b[0;34m(\u001b[0m\u001b[0mkwds_defaults\u001b[0m\u001b[0;34m)\u001b[0m\u001b[0;34m\u001b[0m\u001b[0;34m\u001b[0m\u001b[0m\n\u001b[1;32m    949\u001b[0m \u001b[0;34m\u001b[0m\u001b[0m\n\u001b[0;32m--> 950\u001b[0;31m     \u001b[0;32mreturn\u001b[0m \u001b[0m_read\u001b[0m\u001b[0;34m(\u001b[0m\u001b[0mfilepath_or_buffer\u001b[0m\u001b[0;34m,\u001b[0m \u001b[0mkwds\u001b[0m\u001b[0;34m)\u001b[0m\u001b[0;34m\u001b[0m\u001b[0;34m\u001b[0m\u001b[0m\n\u001b[0m\u001b[1;32m    951\u001b[0m \u001b[0;34m\u001b[0m\u001b[0m\n\u001b[1;32m    952\u001b[0m \u001b[0;34m\u001b[0m\u001b[0m\n",
            "\u001b[0;32m/usr/local/lib/python3.10/dist-packages/pandas/io/parsers/readers.py\u001b[0m in \u001b[0;36m_read\u001b[0;34m(filepath_or_buffer, kwds)\u001b[0m\n\u001b[1;32m    603\u001b[0m \u001b[0;34m\u001b[0m\u001b[0m\n\u001b[1;32m    604\u001b[0m     \u001b[0;31m# Create the parser.\u001b[0m\u001b[0;34m\u001b[0m\u001b[0;34m\u001b[0m\u001b[0m\n\u001b[0;32m--> 605\u001b[0;31m     \u001b[0mparser\u001b[0m \u001b[0;34m=\u001b[0m \u001b[0mTextFileReader\u001b[0m\u001b[0;34m(\u001b[0m\u001b[0mfilepath_or_buffer\u001b[0m\u001b[0;34m,\u001b[0m \u001b[0;34m**\u001b[0m\u001b[0mkwds\u001b[0m\u001b[0;34m)\u001b[0m\u001b[0;34m\u001b[0m\u001b[0;34m\u001b[0m\u001b[0m\n\u001b[0m\u001b[1;32m    606\u001b[0m \u001b[0;34m\u001b[0m\u001b[0m\n\u001b[1;32m    607\u001b[0m     \u001b[0;32mif\u001b[0m \u001b[0mchunksize\u001b[0m \u001b[0;32mor\u001b[0m \u001b[0miterator\u001b[0m\u001b[0;34m:\u001b[0m\u001b[0;34m\u001b[0m\u001b[0;34m\u001b[0m\u001b[0m\n",
            "\u001b[0;32m/usr/local/lib/python3.10/dist-packages/pandas/io/parsers/readers.py\u001b[0m in \u001b[0;36m__init__\u001b[0;34m(self, f, engine, **kwds)\u001b[0m\n\u001b[1;32m   1440\u001b[0m \u001b[0;34m\u001b[0m\u001b[0m\n\u001b[1;32m   1441\u001b[0m         \u001b[0mself\u001b[0m\u001b[0;34m.\u001b[0m\u001b[0mhandles\u001b[0m\u001b[0;34m:\u001b[0m \u001b[0mIOHandles\u001b[0m \u001b[0;34m|\u001b[0m \u001b[0;32mNone\u001b[0m \u001b[0;34m=\u001b[0m \u001b[0;32mNone\u001b[0m\u001b[0;34m\u001b[0m\u001b[0;34m\u001b[0m\u001b[0m\n\u001b[0;32m-> 1442\u001b[0;31m         \u001b[0mself\u001b[0m\u001b[0;34m.\u001b[0m\u001b[0m_engine\u001b[0m \u001b[0;34m=\u001b[0m \u001b[0mself\u001b[0m\u001b[0;34m.\u001b[0m\u001b[0m_make_engine\u001b[0m\u001b[0;34m(\u001b[0m\u001b[0mf\u001b[0m\u001b[0;34m,\u001b[0m \u001b[0mself\u001b[0m\u001b[0;34m.\u001b[0m\u001b[0mengine\u001b[0m\u001b[0;34m)\u001b[0m\u001b[0;34m\u001b[0m\u001b[0;34m\u001b[0m\u001b[0m\n\u001b[0m\u001b[1;32m   1443\u001b[0m \u001b[0;34m\u001b[0m\u001b[0m\n\u001b[1;32m   1444\u001b[0m     \u001b[0;32mdef\u001b[0m \u001b[0mclose\u001b[0m\u001b[0;34m(\u001b[0m\u001b[0mself\u001b[0m\u001b[0;34m)\u001b[0m \u001b[0;34m->\u001b[0m \u001b[0;32mNone\u001b[0m\u001b[0;34m:\u001b[0m\u001b[0;34m\u001b[0m\u001b[0;34m\u001b[0m\u001b[0m\n",
            "\u001b[0;32m/usr/local/lib/python3.10/dist-packages/pandas/io/parsers/readers.py\u001b[0m in \u001b[0;36m_make_engine\u001b[0;34m(self, f, engine)\u001b[0m\n\u001b[1;32m   1733\u001b[0m                 \u001b[0;32mif\u001b[0m \u001b[0;34m\"b\"\u001b[0m \u001b[0;32mnot\u001b[0m \u001b[0;32min\u001b[0m \u001b[0mmode\u001b[0m\u001b[0;34m:\u001b[0m\u001b[0;34m\u001b[0m\u001b[0;34m\u001b[0m\u001b[0m\n\u001b[1;32m   1734\u001b[0m                     \u001b[0mmode\u001b[0m \u001b[0;34m+=\u001b[0m \u001b[0;34m\"b\"\u001b[0m\u001b[0;34m\u001b[0m\u001b[0;34m\u001b[0m\u001b[0m\n\u001b[0;32m-> 1735\u001b[0;31m             self.handles = get_handle(\n\u001b[0m\u001b[1;32m   1736\u001b[0m                 \u001b[0mf\u001b[0m\u001b[0;34m,\u001b[0m\u001b[0;34m\u001b[0m\u001b[0;34m\u001b[0m\u001b[0m\n\u001b[1;32m   1737\u001b[0m                 \u001b[0mmode\u001b[0m\u001b[0;34m,\u001b[0m\u001b[0;34m\u001b[0m\u001b[0;34m\u001b[0m\u001b[0m\n",
            "\u001b[0;32m/usr/local/lib/python3.10/dist-packages/pandas/io/common.py\u001b[0m in \u001b[0;36mget_handle\u001b[0;34m(path_or_buf, mode, encoding, compression, memory_map, is_text, errors, storage_options)\u001b[0m\n\u001b[1;32m    854\u001b[0m         \u001b[0;32mif\u001b[0m \u001b[0mioargs\u001b[0m\u001b[0;34m.\u001b[0m\u001b[0mencoding\u001b[0m \u001b[0;32mand\u001b[0m \u001b[0;34m\"b\"\u001b[0m \u001b[0;32mnot\u001b[0m \u001b[0;32min\u001b[0m \u001b[0mioargs\u001b[0m\u001b[0;34m.\u001b[0m\u001b[0mmode\u001b[0m\u001b[0;34m:\u001b[0m\u001b[0;34m\u001b[0m\u001b[0;34m\u001b[0m\u001b[0m\n\u001b[1;32m    855\u001b[0m             \u001b[0;31m# Encoding\u001b[0m\u001b[0;34m\u001b[0m\u001b[0;34m\u001b[0m\u001b[0m\n\u001b[0;32m--> 856\u001b[0;31m             handle = open(\n\u001b[0m\u001b[1;32m    857\u001b[0m                 \u001b[0mhandle\u001b[0m\u001b[0;34m,\u001b[0m\u001b[0;34m\u001b[0m\u001b[0;34m\u001b[0m\u001b[0m\n\u001b[1;32m    858\u001b[0m                 \u001b[0mioargs\u001b[0m\u001b[0;34m.\u001b[0m\u001b[0mmode\u001b[0m\u001b[0;34m,\u001b[0m\u001b[0;34m\u001b[0m\u001b[0;34m\u001b[0m\u001b[0m\n",
            "\u001b[0;31mFileNotFoundError\u001b[0m: [Errno 2] No such file or directory: 'ds_salaries.csv'"
          ]
        }
      ],
      "source": [
        "import pandas as pd\n",
        "\n",
        "data = pd.read_csv(\"ds_salaries.csv\")"
      ]
    },
    {
      "cell_type": "code",
      "execution_count": null,
      "id": "f9136f6c",
      "metadata": {
        "colab": {
          "base_uri": "https://localhost:8080/",
          "height": 206
        },
        "execution": {
          "iopub.execute_input": "2023-06-18T18:38:02.604769Z",
          "iopub.status.busy": "2023-06-18T18:38:02.603970Z",
          "iopub.status.idle": "2023-06-18T18:38:02.639714Z",
          "shell.execute_reply": "2023-06-18T18:38:02.638350Z"
        },
        "id": "f9136f6c",
        "outputId": "22300231-214d-4054-dce2-c0d017c34c1e",
        "papermill": {
          "duration": 0.053487,
          "end_time": "2023-06-18T18:38:02.642651",
          "exception": false,
          "start_time": "2023-06-18T18:38:02.589164",
          "status": "completed"
        },
        "scrolled": true,
        "tags": []
      },
      "outputs": [
        {
          "data": {
            "text/html": [
              "\n",
              "  <div id=\"df-6a76f933-f57e-4bc3-911f-b5ee1afcf0fb\">\n",
              "    <div class=\"colab-df-container\">\n",
              "      <div>\n",
              "<style scoped>\n",
              "    .dataframe tbody tr th:only-of-type {\n",
              "        vertical-align: middle;\n",
              "    }\n",
              "\n",
              "    .dataframe tbody tr th {\n",
              "        vertical-align: top;\n",
              "    }\n",
              "\n",
              "    .dataframe thead th {\n",
              "        text-align: right;\n",
              "    }\n",
              "</style>\n",
              "<table border=\"1\" class=\"dataframe\">\n",
              "  <thead>\n",
              "    <tr style=\"text-align: right;\">\n",
              "      <th></th>\n",
              "      <th>work_year</th>\n",
              "      <th>experience_level</th>\n",
              "      <th>employment_type</th>\n",
              "      <th>job_title</th>\n",
              "      <th>salary</th>\n",
              "      <th>salary_currency</th>\n",
              "      <th>salary_in_usd</th>\n",
              "      <th>employee_residence</th>\n",
              "      <th>remote_ratio</th>\n",
              "      <th>company_location</th>\n",
              "      <th>company_size</th>\n",
              "    </tr>\n",
              "  </thead>\n",
              "  <tbody>\n",
              "    <tr>\n",
              "      <th>0</th>\n",
              "      <td>2023</td>\n",
              "      <td>SE</td>\n",
              "      <td>FT</td>\n",
              "      <td>Principal Data Scientist</td>\n",
              "      <td>80000</td>\n",
              "      <td>EUR</td>\n",
              "      <td>85847</td>\n",
              "      <td>ES</td>\n",
              "      <td>100</td>\n",
              "      <td>ES</td>\n",
              "      <td>L</td>\n",
              "    </tr>\n",
              "    <tr>\n",
              "      <th>1</th>\n",
              "      <td>2023</td>\n",
              "      <td>MI</td>\n",
              "      <td>CT</td>\n",
              "      <td>ML Engineer</td>\n",
              "      <td>30000</td>\n",
              "      <td>USD</td>\n",
              "      <td>30000</td>\n",
              "      <td>US</td>\n",
              "      <td>100</td>\n",
              "      <td>US</td>\n",
              "      <td>S</td>\n",
              "    </tr>\n",
              "    <tr>\n",
              "      <th>2</th>\n",
              "      <td>2023</td>\n",
              "      <td>MI</td>\n",
              "      <td>CT</td>\n",
              "      <td>ML Engineer</td>\n",
              "      <td>25500</td>\n",
              "      <td>USD</td>\n",
              "      <td>25500</td>\n",
              "      <td>US</td>\n",
              "      <td>100</td>\n",
              "      <td>US</td>\n",
              "      <td>S</td>\n",
              "    </tr>\n",
              "    <tr>\n",
              "      <th>3</th>\n",
              "      <td>2023</td>\n",
              "      <td>SE</td>\n",
              "      <td>FT</td>\n",
              "      <td>Data Scientist</td>\n",
              "      <td>175000</td>\n",
              "      <td>USD</td>\n",
              "      <td>175000</td>\n",
              "      <td>CA</td>\n",
              "      <td>100</td>\n",
              "      <td>CA</td>\n",
              "      <td>M</td>\n",
              "    </tr>\n",
              "    <tr>\n",
              "      <th>4</th>\n",
              "      <td>2023</td>\n",
              "      <td>SE</td>\n",
              "      <td>FT</td>\n",
              "      <td>Data Scientist</td>\n",
              "      <td>120000</td>\n",
              "      <td>USD</td>\n",
              "      <td>120000</td>\n",
              "      <td>CA</td>\n",
              "      <td>100</td>\n",
              "      <td>CA</td>\n",
              "      <td>M</td>\n",
              "    </tr>\n",
              "  </tbody>\n",
              "</table>\n",
              "</div>\n",
              "      <button class=\"colab-df-convert\" onclick=\"convertToInteractive('df-6a76f933-f57e-4bc3-911f-b5ee1afcf0fb')\"\n",
              "              title=\"Convert this dataframe to an interactive table.\"\n",
              "              style=\"display:none;\">\n",
              "        \n",
              "  <svg xmlns=\"http://www.w3.org/2000/svg\" height=\"24px\"viewBox=\"0 0 24 24\"\n",
              "       width=\"24px\">\n",
              "    <path d=\"M0 0h24v24H0V0z\" fill=\"none\"/>\n",
              "    <path d=\"M18.56 5.44l.94 2.06.94-2.06 2.06-.94-2.06-.94-.94-2.06-.94 2.06-2.06.94zm-11 1L8.5 8.5l.94-2.06 2.06-.94-2.06-.94L8.5 2.5l-.94 2.06-2.06.94zm10 10l.94 2.06.94-2.06 2.06-.94-2.06-.94-.94-2.06-.94 2.06-2.06.94z\"/><path d=\"M17.41 7.96l-1.37-1.37c-.4-.4-.92-.59-1.43-.59-.52 0-1.04.2-1.43.59L10.3 9.45l-7.72 7.72c-.78.78-.78 2.05 0 2.83L4 21.41c.39.39.9.59 1.41.59.51 0 1.02-.2 1.41-.59l7.78-7.78 2.81-2.81c.8-.78.8-2.07 0-2.86zM5.41 20L4 18.59l7.72-7.72 1.47 1.35L5.41 20z\"/>\n",
              "  </svg>\n",
              "      </button>\n",
              "      \n",
              "  <style>\n",
              "    .colab-df-container {\n",
              "      display:flex;\n",
              "      flex-wrap:wrap;\n",
              "      gap: 12px;\n",
              "    }\n",
              "\n",
              "    .colab-df-convert {\n",
              "      background-color: #E8F0FE;\n",
              "      border: none;\n",
              "      border-radius: 50%;\n",
              "      cursor: pointer;\n",
              "      display: none;\n",
              "      fill: #1967D2;\n",
              "      height: 32px;\n",
              "      padding: 0 0 0 0;\n",
              "      width: 32px;\n",
              "    }\n",
              "\n",
              "    .colab-df-convert:hover {\n",
              "      background-color: #E2EBFA;\n",
              "      box-shadow: 0px 1px 2px rgba(60, 64, 67, 0.3), 0px 1px 3px 1px rgba(60, 64, 67, 0.15);\n",
              "      fill: #174EA6;\n",
              "    }\n",
              "\n",
              "    [theme=dark] .colab-df-convert {\n",
              "      background-color: #3B4455;\n",
              "      fill: #D2E3FC;\n",
              "    }\n",
              "\n",
              "    [theme=dark] .colab-df-convert:hover {\n",
              "      background-color: #434B5C;\n",
              "      box-shadow: 0px 1px 3px 1px rgba(0, 0, 0, 0.15);\n",
              "      filter: drop-shadow(0px 1px 2px rgba(0, 0, 0, 0.3));\n",
              "      fill: #FFFFFF;\n",
              "    }\n",
              "  </style>\n",
              "\n",
              "      <script>\n",
              "        const buttonEl =\n",
              "          document.querySelector('#df-6a76f933-f57e-4bc3-911f-b5ee1afcf0fb button.colab-df-convert');\n",
              "        buttonEl.style.display =\n",
              "          google.colab.kernel.accessAllowed ? 'block' : 'none';\n",
              "\n",
              "        async function convertToInteractive(key) {\n",
              "          const element = document.querySelector('#df-6a76f933-f57e-4bc3-911f-b5ee1afcf0fb');\n",
              "          const dataTable =\n",
              "            await google.colab.kernel.invokeFunction('convertToInteractive',\n",
              "                                                     [key], {});\n",
              "          if (!dataTable) return;\n",
              "\n",
              "          const docLinkHtml = 'Like what you see? Visit the ' +\n",
              "            '<a target=\"_blank\" href=https://colab.research.google.com/notebooks/data_table.ipynb>data table notebook</a>'\n",
              "            + ' to learn more about interactive tables.';\n",
              "          element.innerHTML = '';\n",
              "          dataTable['output_type'] = 'display_data';\n",
              "          await google.colab.output.renderOutput(dataTable, element);\n",
              "          const docLink = document.createElement('div');\n",
              "          docLink.innerHTML = docLinkHtml;\n",
              "          element.appendChild(docLink);\n",
              "        }\n",
              "      </script>\n",
              "    </div>\n",
              "  </div>\n",
              "  "
            ],
            "text/plain": [
              "   work_year experience_level employment_type                 job_title  \\\n",
              "0       2023               SE              FT  Principal Data Scientist   \n",
              "1       2023               MI              CT               ML Engineer   \n",
              "2       2023               MI              CT               ML Engineer   \n",
              "3       2023               SE              FT            Data Scientist   \n",
              "4       2023               SE              FT            Data Scientist   \n",
              "\n",
              "   salary salary_currency  salary_in_usd employee_residence  remote_ratio  \\\n",
              "0   80000             EUR          85847                 ES           100   \n",
              "1   30000             USD          30000                 US           100   \n",
              "2   25500             USD          25500                 US           100   \n",
              "3  175000             USD         175000                 CA           100   \n",
              "4  120000             USD         120000                 CA           100   \n",
              "\n",
              "  company_location company_size  \n",
              "0               ES            L  \n",
              "1               US            S  \n",
              "2               US            S  \n",
              "3               CA            M  \n",
              "4               CA            M  "
            ]
          },
          "execution_count": 6,
          "metadata": {},
          "output_type": "execute_result"
        }
      ],
      "source": [
        "# view the first 5 rows of data\n",
        "\n",
        "data.head(5)"
      ]
    },
    {
      "cell_type": "code",
      "execution_count": null,
      "id": "5935bf7b",
      "metadata": {
        "colab": {
          "base_uri": "https://localhost:8080/"
        },
        "execution": {
          "iopub.execute_input": "2023-06-18T18:38:02.671338Z",
          "iopub.status.busy": "2023-06-18T18:38:02.670863Z",
          "iopub.status.idle": "2023-06-18T18:38:02.677784Z",
          "shell.execute_reply": "2023-06-18T18:38:02.676610Z"
        },
        "id": "5935bf7b",
        "outputId": "7a732e2a-b096-45f2-b652-5789bde1d497",
        "papermill": {
          "duration": 0.024239,
          "end_time": "2023-06-18T18:38:02.680304",
          "exception": false,
          "start_time": "2023-06-18T18:38:02.656065",
          "status": "completed"
        },
        "tags": []
      },
      "outputs": [
        {
          "name": "stdout",
          "output_type": "stream",
          "text": [
            "Number of rows 3755\n",
            "Number of columns 11\n"
          ]
        }
      ],
      "source": [
        "#view the shape of data\n",
        "\n",
        "print(\"Number of rows\", data.shape[0])\n",
        "print(\"Number of columns\", data.shape[1])"
      ]
    },
    {
      "cell_type": "code",
      "execution_count": null,
      "id": "e5b901c5",
      "metadata": {
        "execution": {
          "iopub.execute_input": "2023-06-18T18:38:02.709455Z",
          "iopub.status.busy": "2023-06-18T18:38:02.708979Z",
          "iopub.status.idle": "2023-06-18T18:38:02.716376Z",
          "shell.execute_reply": "2023-06-18T18:38:02.714696Z"
        },
        "id": "e5b901c5",
        "outputId": "411c9855-8e78-4aed-9455-a02334d7b3ce",
        "papermill": {
          "duration": 0.025098,
          "end_time": "2023-06-18T18:38:02.719119",
          "exception": false,
          "start_time": "2023-06-18T18:38:02.694021",
          "status": "completed"
        },
        "tags": []
      },
      "outputs": [
        {
          "name": "stdout",
          "output_type": "stream",
          "text": [
            "Data Features:\n",
            " ['work_year' 'experience_level' 'employment_type' 'job_title' 'salary'\n",
            " 'salary_currency' 'salary_in_usd' 'employee_residence' 'remote_ratio'\n",
            " 'company_location' 'company_size']\n"
          ]
        }
      ],
      "source": [
        "#view the features\n",
        "\n",
        "print(\"Data Features:\\n\",data.columns.values)"
      ]
    },
    {
      "cell_type": "code",
      "execution_count": null,
      "id": "936e3588",
      "metadata": {
        "execution": {
          "iopub.execute_input": "2023-06-18T18:38:02.747588Z",
          "iopub.status.busy": "2023-06-18T18:38:02.747174Z",
          "iopub.status.idle": "2023-06-18T18:38:02.755295Z",
          "shell.execute_reply": "2023-06-18T18:38:02.753676Z"
        },
        "id": "936e3588",
        "outputId": "f591d35d-2d43-49db-dc72-2201663edcdd",
        "papermill": {
          "duration": 0.025339,
          "end_time": "2023-06-18T18:38:02.757821",
          "exception": false,
          "start_time": "2023-06-18T18:38:02.732482",
          "status": "completed"
        },
        "tags": []
      },
      "outputs": [
        {
          "name": "stdout",
          "output_type": "stream",
          "text": [
            "work_year              int64\n",
            "experience_level      object\n",
            "employment_type       object\n",
            "job_title             object\n",
            "salary                 int64\n",
            "salary_currency       object\n",
            "salary_in_usd          int64\n",
            "employee_residence    object\n",
            "remote_ratio           int64\n",
            "company_location      object\n",
            "company_size          object\n",
            "dtype: object\n"
          ]
        }
      ],
      "source": [
        "#datatype of each feature\n",
        "\n",
        "print(data.dtypes)"
      ]
    },
    {
      "cell_type": "code",
      "execution_count": null,
      "id": "9b8080ad",
      "metadata": {
        "execution": {
          "iopub.execute_input": "2023-06-18T18:38:02.786783Z",
          "iopub.status.busy": "2023-06-18T18:38:02.786261Z",
          "iopub.status.idle": "2023-06-18T18:38:02.807432Z",
          "shell.execute_reply": "2023-06-18T18:38:02.805425Z"
        },
        "id": "9b8080ad",
        "outputId": "ff9a89b6-cfd1-4652-9967-05d19fcfb5d0",
        "papermill": {
          "duration": 0.039232,
          "end_time": "2023-06-18T18:38:02.810454",
          "exception": false,
          "start_time": "2023-06-18T18:38:02.771222",
          "status": "completed"
        },
        "tags": []
      },
      "outputs": [
        {
          "name": "stdout",
          "output_type": "stream",
          "text": [
            "work_year             0\n",
            "experience_level      0\n",
            "employment_type       0\n",
            "job_title             0\n",
            "salary                0\n",
            "salary_currency       0\n",
            "salary_in_usd         0\n",
            "employee_residence    0\n",
            "remote_ratio          0\n",
            "company_location      0\n",
            "company_size          0\n",
            "dtype: int64\n"
          ]
        }
      ],
      "source": [
        "# the missing values in each column\n",
        "\n",
        "print(data.isnull().sum())"
      ]
    },
    {
      "cell_type": "code",
      "execution_count": null,
      "id": "eb002fa5",
      "metadata": {
        "execution": {
          "iopub.execute_input": "2023-06-18T18:38:02.839709Z",
          "iopub.status.busy": "2023-06-18T18:38:02.839274Z",
          "iopub.status.idle": "2023-06-18T18:38:02.859515Z",
          "shell.execute_reply": "2023-06-18T18:38:02.857686Z"
        },
        "id": "eb002fa5",
        "outputId": "05a86f4f-e412-4668-b11e-a3eff434c116",
        "papermill": {
          "duration": 0.038021,
          "end_time": "2023-06-18T18:38:02.862265",
          "exception": false,
          "start_time": "2023-06-18T18:38:02.824244",
          "status": "completed"
        },
        "tags": []
      },
      "outputs": [
        {
          "name": "stdout",
          "output_type": "stream",
          "text": [
            "work_year                4\n",
            "experience_level         4\n",
            "employment_type          4\n",
            "job_title               93\n",
            "salary                 815\n",
            "salary_currency         20\n",
            "salary_in_usd         1035\n",
            "employee_residence      78\n",
            "remote_ratio             3\n",
            "company_location        72\n",
            "company_size             3\n",
            "dtype: int64\n"
          ]
        }
      ],
      "source": [
        "#number of unique values for each feature\n",
        "\n",
        "print(data.nunique())"
      ]
    },
    {
      "attachments": {},
      "cell_type": "markdown",
      "id": "4c8a7ace",
      "metadata": {
        "id": "4c8a7ace",
        "papermill": {
          "duration": 0.013927,
          "end_time": "2023-06-18T18:38:02.890007",
          "exception": false,
          "start_time": "2023-06-18T18:38:02.876080",
          "status": "completed"
        },
        "tags": []
      },
      "source": [
        "## Exploratory Analysis and Visualization\n",
        "\n"
      ]
    },
    {
      "cell_type": "code",
      "execution_count": null,
      "id": "3be2492d",
      "metadata": {
        "execution": {
          "iopub.execute_input": "2023-06-18T18:38:02.919230Z",
          "iopub.status.busy": "2023-06-18T18:38:02.918839Z",
          "iopub.status.idle": "2023-06-18T18:38:02.949997Z",
          "shell.execute_reply": "2023-06-18T18:38:02.948413Z"
        },
        "id": "3be2492d",
        "outputId": "3482d3aa-ee8b-483e-c33f-40d02857af4f",
        "papermill": {
          "duration": 0.048758,
          "end_time": "2023-06-18T18:38:02.952589",
          "exception": false,
          "start_time": "2023-06-18T18:38:02.903831",
          "status": "completed"
        },
        "tags": []
      },
      "outputs": [
        {
          "data": {
            "text/html": [
              "<div>\n",
              "<style scoped>\n",
              "    .dataframe tbody tr th:only-of-type {\n",
              "        vertical-align: middle;\n",
              "    }\n",
              "\n",
              "    .dataframe tbody tr th {\n",
              "        vertical-align: top;\n",
              "    }\n",
              "\n",
              "    .dataframe thead th {\n",
              "        text-align: right;\n",
              "    }\n",
              "</style>\n",
              "<table border=\"1\" class=\"dataframe\">\n",
              "  <thead>\n",
              "    <tr style=\"text-align: right;\">\n",
              "      <th></th>\n",
              "      <th>work_year</th>\n",
              "      <th>salary</th>\n",
              "      <th>salary_in_usd</th>\n",
              "      <th>remote_ratio</th>\n",
              "    </tr>\n",
              "  </thead>\n",
              "  <tbody>\n",
              "    <tr>\n",
              "      <th>count</th>\n",
              "      <td>3755.000000</td>\n",
              "      <td>3.755000e+03</td>\n",
              "      <td>3755.000000</td>\n",
              "      <td>3755.000000</td>\n",
              "    </tr>\n",
              "    <tr>\n",
              "      <th>mean</th>\n",
              "      <td>2022.373635</td>\n",
              "      <td>1.906956e+05</td>\n",
              "      <td>137570.389880</td>\n",
              "      <td>46.271638</td>\n",
              "    </tr>\n",
              "    <tr>\n",
              "      <th>std</th>\n",
              "      <td>0.691448</td>\n",
              "      <td>6.716765e+05</td>\n",
              "      <td>63055.625278</td>\n",
              "      <td>48.589050</td>\n",
              "    </tr>\n",
              "    <tr>\n",
              "      <th>min</th>\n",
              "      <td>2020.000000</td>\n",
              "      <td>6.000000e+03</td>\n",
              "      <td>5132.000000</td>\n",
              "      <td>0.000000</td>\n",
              "    </tr>\n",
              "    <tr>\n",
              "      <th>25%</th>\n",
              "      <td>2022.000000</td>\n",
              "      <td>1.000000e+05</td>\n",
              "      <td>95000.000000</td>\n",
              "      <td>0.000000</td>\n",
              "    </tr>\n",
              "    <tr>\n",
              "      <th>50%</th>\n",
              "      <td>2022.000000</td>\n",
              "      <td>1.380000e+05</td>\n",
              "      <td>135000.000000</td>\n",
              "      <td>0.000000</td>\n",
              "    </tr>\n",
              "    <tr>\n",
              "      <th>75%</th>\n",
              "      <td>2023.000000</td>\n",
              "      <td>1.800000e+05</td>\n",
              "      <td>175000.000000</td>\n",
              "      <td>100.000000</td>\n",
              "    </tr>\n",
              "    <tr>\n",
              "      <th>max</th>\n",
              "      <td>2023.000000</td>\n",
              "      <td>3.040000e+07</td>\n",
              "      <td>450000.000000</td>\n",
              "      <td>100.000000</td>\n",
              "    </tr>\n",
              "  </tbody>\n",
              "</table>\n",
              "</div>"
            ],
            "text/plain": [
              "         work_year        salary  salary_in_usd  remote_ratio\n",
              "count  3755.000000  3.755000e+03    3755.000000   3755.000000\n",
              "mean   2022.373635  1.906956e+05  137570.389880     46.271638\n",
              "std       0.691448  6.716765e+05   63055.625278     48.589050\n",
              "min    2020.000000  6.000000e+03    5132.000000      0.000000\n",
              "25%    2022.000000  1.000000e+05   95000.000000      0.000000\n",
              "50%    2022.000000  1.380000e+05  135000.000000      0.000000\n",
              "75%    2023.000000  1.800000e+05  175000.000000    100.000000\n",
              "max    2023.000000  3.040000e+07  450000.000000    100.000000"
            ]
          },
          "execution_count": 10,
          "metadata": {},
          "output_type": "execute_result"
        }
      ],
      "source": [
        "#statistical info about the data\n",
        "\n",
        "data.describe()"
      ]
    },
    {
      "cell_type": "code",
      "execution_count": null,
      "id": "7ccd5f74",
      "metadata": {
        "execution": {
          "iopub.execute_input": "2023-06-18T18:38:02.983518Z",
          "iopub.status.busy": "2023-06-18T18:38:02.983045Z",
          "iopub.status.idle": "2023-06-18T18:38:03.033204Z",
          "shell.execute_reply": "2023-06-18T18:38:03.031545Z"
        },
        "id": "7ccd5f74",
        "outputId": "72820e78-1d94-4391-d76c-077c211e8d9b",
        "papermill": {
          "duration": 0.069005,
          "end_time": "2023-06-18T18:38:03.036158",
          "exception": false,
          "start_time": "2023-06-18T18:38:02.967153",
          "status": "completed"
        },
        "tags": []
      },
      "outputs": [
        {
          "data": {
            "text/html": [
              "<div>\n",
              "<style scoped>\n",
              "    .dataframe tbody tr th:only-of-type {\n",
              "        vertical-align: middle;\n",
              "    }\n",
              "\n",
              "    .dataframe tbody tr th {\n",
              "        vertical-align: top;\n",
              "    }\n",
              "\n",
              "    .dataframe thead th {\n",
              "        text-align: right;\n",
              "    }\n",
              "</style>\n",
              "<table border=\"1\" class=\"dataframe\">\n",
              "  <thead>\n",
              "    <tr style=\"text-align: right;\">\n",
              "      <th></th>\n",
              "      <th>experience_level</th>\n",
              "      <th>employment_type</th>\n",
              "      <th>job_title</th>\n",
              "      <th>salary_currency</th>\n",
              "      <th>employee_residence</th>\n",
              "      <th>company_location</th>\n",
              "      <th>company_size</th>\n",
              "    </tr>\n",
              "  </thead>\n",
              "  <tbody>\n",
              "    <tr>\n",
              "      <th>count</th>\n",
              "      <td>3755</td>\n",
              "      <td>3755</td>\n",
              "      <td>3755</td>\n",
              "      <td>3755</td>\n",
              "      <td>3755</td>\n",
              "      <td>3755</td>\n",
              "      <td>3755</td>\n",
              "    </tr>\n",
              "    <tr>\n",
              "      <th>unique</th>\n",
              "      <td>4</td>\n",
              "      <td>4</td>\n",
              "      <td>93</td>\n",
              "      <td>20</td>\n",
              "      <td>78</td>\n",
              "      <td>72</td>\n",
              "      <td>3</td>\n",
              "    </tr>\n",
              "    <tr>\n",
              "      <th>top</th>\n",
              "      <td>SE</td>\n",
              "      <td>FT</td>\n",
              "      <td>Data Engineer</td>\n",
              "      <td>USD</td>\n",
              "      <td>US</td>\n",
              "      <td>US</td>\n",
              "      <td>M</td>\n",
              "    </tr>\n",
              "    <tr>\n",
              "      <th>freq</th>\n",
              "      <td>2516</td>\n",
              "      <td>3718</td>\n",
              "      <td>1040</td>\n",
              "      <td>3224</td>\n",
              "      <td>3004</td>\n",
              "      <td>3040</td>\n",
              "      <td>3153</td>\n",
              "    </tr>\n",
              "  </tbody>\n",
              "</table>\n",
              "</div>"
            ],
            "text/plain": [
              "       experience_level employment_type      job_title salary_currency  \\\n",
              "count              3755            3755           3755            3755   \n",
              "unique                4               4             93              20   \n",
              "top                  SE              FT  Data Engineer             USD   \n",
              "freq               2516            3718           1040            3224   \n",
              "\n",
              "       employee_residence company_location company_size  \n",
              "count                3755             3755         3755  \n",
              "unique                 78               72            3  \n",
              "top                    US               US            M  \n",
              "freq                 3004             3040         3153  "
            ]
          },
          "execution_count": 11,
          "metadata": {},
          "output_type": "execute_result"
        }
      ],
      "source": [
        "data.describe(include='object')"
      ]
    },
    {
      "cell_type": "code",
      "execution_count": null,
      "id": "0b56bc5c",
      "metadata": {
        "execution": {
          "iopub.execute_input": "2023-06-18T18:38:03.067954Z",
          "iopub.status.busy": "2023-06-18T18:38:03.067175Z",
          "iopub.status.idle": "2023-06-18T18:38:04.734325Z",
          "shell.execute_reply": "2023-06-18T18:38:04.733079Z"
        },
        "id": "0b56bc5c",
        "papermill": {
          "duration": 1.686765,
          "end_time": "2023-06-18T18:38:04.737307",
          "exception": false,
          "start_time": "2023-06-18T18:38:03.050542",
          "status": "completed"
        },
        "tags": []
      },
      "outputs": [],
      "source": [
        "import seaborn as sns\n",
        "import matplotlib\n",
        "import matplotlib.pyplot as plt\n",
        "%matplotlib inline\n",
        "\n",
        "sns.set_style('darkgrid')\n",
        "matplotlib.rcParams['font.size'] = 14\n",
        "matplotlib.rcParams['figure.figsize'] = (9, 5)\n",
        "matplotlib.rcParams['figure.facecolor'] = '#00000000'"
      ]
    },
    {
      "attachments": {},
      "cell_type": "markdown",
      "id": "5ed18034",
      "metadata": {
        "id": "5ed18034",
        "papermill": {
          "duration": 0.013829,
          "end_time": "2023-06-18T18:38:04.765582",
          "exception": false,
          "start_time": "2023-06-18T18:38:04.751753",
          "status": "completed"
        },
        "tags": []
      },
      "source": [
        "### The Top 10 Job titles in terms of Count of Employees"
      ]
    },
    {
      "cell_type": "code",
      "execution_count": null,
      "id": "b864a276",
      "metadata": {
        "execution": {
          "iopub.execute_input": "2023-06-18T18:38:04.796527Z",
          "iopub.status.busy": "2023-06-18T18:38:04.795876Z",
          "iopub.status.idle": "2023-06-18T18:38:04.802471Z",
          "shell.execute_reply": "2023-06-18T18:38:04.801633Z"
        },
        "id": "b864a276",
        "papermill": {
          "duration": 0.024777,
          "end_time": "2023-06-18T18:38:04.804865",
          "exception": false,
          "start_time": "2023-06-18T18:38:04.780088",
          "status": "completed"
        },
        "tags": []
      },
      "outputs": [],
      "source": [
        "job_titles = data.job_title.value_counts().head(10)"
      ]
    },
    {
      "cell_type": "code",
      "execution_count": null,
      "id": "36fc9939",
      "metadata": {
        "execution": {
          "iopub.execute_input": "2023-06-18T18:38:04.835623Z",
          "iopub.status.busy": "2023-06-18T18:38:04.835002Z",
          "iopub.status.idle": "2023-06-18T18:38:05.383034Z",
          "shell.execute_reply": "2023-06-18T18:38:05.381908Z"
        },
        "id": "36fc9939",
        "outputId": "068531ac-aa8a-4abc-d4eb-03e2b003bb82",
        "papermill": {
          "duration": 0.566478,
          "end_time": "2023-06-18T18:38:05.385650",
          "exception": false,
          "start_time": "2023-06-18T18:38:04.819172",
          "status": "completed"
        },
        "tags": []
      },
      "outputs": [
        {
          "data": {
            "image/png": "[encoded data removed]",
            "text/plain": [
              "<Figure size 1200x600 with 1 Axes>"
            ]
          },
          "metadata": {
            "needs_background": "light"
          },
          "output_type": "display_data"
        }
      ],
      "source": [
        "plt.figure(figsize=(12,6))\n",
        "plt.xticks(rotation=0)\n",
        "plt.title(\"The Counts of Top 10 Job Titles\")\n",
        "plt.ylabel('Job Titles')\n",
        "plt.xlabel('Counts')\n",
        "\n",
        "sns.barplot(y=job_titles.index, x= job_titles.values);"
      ]
    },
    {
      "attachments": {},
      "cell_type": "markdown",
      "id": "4c37b3b1",
      "metadata": {
        "id": "4c37b3b1",
        "papermill": {
          "duration": 0.014589,
          "end_time": "2023-06-18T18:38:05.415249",
          "exception": false,
          "start_time": "2023-06-18T18:38:05.400660",
          "status": "completed"
        },
        "tags": []
      },
      "source": [
        "### The 20 Job Titles in terms of Salary\n"
      ]
    },
    {
      "cell_type": "code",
      "execution_count": null,
      "id": "89c0576a",
      "metadata": {
        "execution": {
          "iopub.execute_input": "2023-06-18T18:38:05.447541Z",
          "iopub.status.busy": "2023-06-18T18:38:05.446913Z",
          "iopub.status.idle": "2023-06-18T18:38:05.465930Z",
          "shell.execute_reply": "2023-06-18T18:38:05.463697Z"
        },
        "id": "89c0576a",
        "outputId": "ee78c351-1278-4114-d500-46484b6f4bb4",
        "papermill": {
          "duration": 0.038337,
          "end_time": "2023-06-18T18:38:05.468624",
          "exception": false,
          "start_time": "2023-06-18T18:38:05.430287",
          "status": "completed"
        },
        "tags": []
      },
      "outputs": [
        {
          "name": "stderr",
          "output_type": "stream",
          "text": [
            "/tmp/ipykernel_20/437546418.py:4: FutureWarning: The default value of numeric_only in DataFrameGroupBy.mean is deprecated. In a future version, numeric_only will default to False. Either specify numeric_only or select only columns which should be valid for the function.\n",
            "  job_titles_salaries = job_titles_salaries.groupby(data['job_title']).mean().round(0).head(20).sort_values('salary_in_usd',ascending = False).reset_index()\n"
          ]
        }
      ],
      "source": [
        "job_titles_salaries = data[['job_title','salary_in_usd']]\n",
        "\n",
        "\n",
        "job_titles_salaries = job_titles_salaries.groupby(data['job_title']).mean().round(0).head(20).sort_values('salary_in_usd',ascending = False).reset_index()"
      ]
    },
    {
      "cell_type": "code",
      "execution_count": null,
      "id": "39771486",
      "metadata": {
        "execution": {
          "iopub.execute_input": "2023-06-18T18:38:05.501915Z",
          "iopub.status.busy": "2023-06-18T18:38:05.500809Z",
          "iopub.status.idle": "2023-06-18T18:38:06.208051Z",
          "shell.execute_reply": "2023-06-18T18:38:06.206472Z"
        },
        "id": "39771486",
        "outputId": "2611349a-d8d4-432d-e1de-8c665d5610ad",
        "papermill": {
          "duration": 0.727029,
          "end_time": "2023-06-18T18:38:06.210990",
          "exception": false,
          "start_time": "2023-06-18T18:38:05.483961",
          "status": "completed"
        },
        "tags": []
      },
      "outputs": [
        {
          "data": {
            "image/png": "[encoded data removed]",
            "text/plain": [
              "<Figure size 800x800 with 1 Axes>"
            ]
          },
          "metadata": {
            "needs_background": "light"
          },
          "output_type": "display_data"
        }
      ],
      "source": [
        "plt.figure(figsize=(8,8))\n",
        "plt.xticks(rotation=0)\n",
        "plt.title(\"The 20 Job Titles in terms of Salary\")\n",
        "plt.ylabel('Job Titles')\n",
        "plt.xlabel('USD')\n",
        "\n",
        "sns.barplot(data=job_titles_salaries,x=job_titles_salaries.salary_in_usd.values,y=job_titles_salaries.job_title);"
      ]
    },
    {
      "attachments": {},
      "cell_type": "markdown",
      "id": "8e67bf0b",
      "metadata": {
        "id": "8e67bf0b",
        "papermill": {
          "duration": 0.01669,
          "end_time": "2023-06-18T18:38:06.245033",
          "exception": false,
          "start_time": "2023-06-18T18:38:06.228343",
          "status": "completed"
        },
        "tags": []
      },
      "source": [
        "### The Top 10 Countries have Data Science employees"
      ]
    },
    {
      "cell_type": "code",
      "execution_count": null,
      "id": "9da24e0f",
      "metadata": {
        "execution": {
          "iopub.execute_input": "2023-06-18T18:38:06.281897Z",
          "iopub.status.busy": "2023-06-18T18:38:06.280541Z",
          "iopub.status.idle": "2023-06-18T18:38:06.289139Z",
          "shell.execute_reply": "2023-06-18T18:38:06.287630Z"
        },
        "id": "9da24e0f",
        "papermill": {
          "duration": 0.029688,
          "end_time": "2023-06-18T18:38:06.291933",
          "exception": false,
          "start_time": "2023-06-18T18:38:06.262245",
          "status": "completed"
        },
        "tags": []
      },
      "outputs": [],
      "source": [
        "countries = data.employee_residence.value_counts().head(10)"
      ]
    },
    {
      "cell_type": "code",
      "execution_count": null,
      "id": "56d69f38",
      "metadata": {
        "execution": {
          "iopub.execute_input": "2023-06-18T18:38:06.327308Z",
          "iopub.status.busy": "2023-06-18T18:38:06.326917Z",
          "iopub.status.idle": "2023-06-18T18:38:06.854412Z",
          "shell.execute_reply": "2023-06-18T18:38:06.853117Z"
        },
        "id": "56d69f38",
        "outputId": "defcb8ab-f0c5-4278-f189-365fc2a9ff57",
        "papermill": {
          "duration": 0.54831,
          "end_time": "2023-06-18T18:38:06.856960",
          "exception": false,
          "start_time": "2023-06-18T18:38:06.308650",
          "status": "completed"
        },
        "tags": []
      },
      "outputs": [
        {
          "data": {
            "image/png": "[encoded data removed]",
            "text/plain": [
              "<Figure size 1200x600 with 1 Axes>"
            ]
          },
          "metadata": {
            "needs_background": "light"
          },
          "output_type": "display_data"
        }
      ],
      "source": [
        "plt.figure(figsize=(12,6))\n",
        "plt.xticks(rotation=0)\n",
        "plt.title(\"The Top 10 Countries with Data Science employees\")\n",
        "plt.ylabel('Country')\n",
        "plt.xlabel('Counts')\n",
        "\n",
        "sns.barplot(y=countries.index, x= countries.values);"
      ]
    },
    {
      "attachments": {},
      "cell_type": "markdown",
      "id": "9a3b459b",
      "metadata": {
        "id": "9a3b459b",
        "papermill": {
          "duration": 0.020565,
          "end_time": "2023-06-18T18:38:06.896080",
          "exception": false,
          "start_time": "2023-06-18T18:38:06.875515",
          "status": "completed"
        },
        "tags": []
      },
      "source": [
        "it's clear that US has the largest number of emplyees in Data Science jobs"
      ]
    },
    {
      "attachments": {},
      "cell_type": "markdown",
      "id": "74ec6ce4",
      "metadata": {
        "id": "74ec6ce4",
        "papermill": {
          "duration": 0.017189,
          "end_time": "2023-06-18T18:38:06.931077",
          "exception": false,
          "start_time": "2023-06-18T18:38:06.913888",
          "status": "completed"
        },
        "tags": []
      },
      "source": [
        "### Relationship between Experience Level and Company Size"
      ]
    },
    {
      "cell_type": "code",
      "execution_count": null,
      "id": "c335b922",
      "metadata": {
        "execution": {
          "iopub.execute_input": "2023-06-18T18:38:06.968987Z",
          "iopub.status.busy": "2023-06-18T18:38:06.968548Z",
          "iopub.status.idle": "2023-06-18T18:38:07.519513Z",
          "shell.execute_reply": "2023-06-18T18:38:07.517970Z"
        },
        "id": "c335b922",
        "outputId": "16ac07d2-caa1-4412-8176-0517a292b2c5",
        "papermill": {
          "duration": 0.573695,
          "end_time": "2023-06-18T18:38:07.522563",
          "exception": false,
          "start_time": "2023-06-18T18:38:06.948868",
          "status": "completed"
        },
        "tags": []
      },
      "outputs": [
        {
          "data": {
            "image/png": "[encoded data removed]",
            "text/plain": [
              "<Figure size 1200x800 with 2 Axes>"
            ]
          },
          "metadata": {
            "needs_background": "light"
          },
          "output_type": "display_data"
        }
      ],
      "source": [
        "cross_tab = pd.crosstab(data['experience_level'], data['company_size'])\n",
        "\n",
        "# Create a heatmap using the cross-tabulation data\n",
        "plt.figure(figsize=(12, 8))\n",
        "sns.heatmap(cross_tab, annot=True, fmt=\"d\", cmap='Reds')\n",
        "\n",
        "plt.xlabel('Company Size')\n",
        "plt.ylabel('Experience Level')\n",
        "plt.title('Relationship between Experience Level and Company Size');"
      ]
    },
    {
      "attachments": {},
      "cell_type": "markdown",
      "id": "d6f19251",
      "metadata": {
        "id": "d6f19251",
        "papermill": {
          "duration": 0.020032,
          "end_time": "2023-06-18T18:38:07.562372",
          "exception": false,
          "start_time": "2023-06-18T18:38:07.542340",
          "status": "completed"
        },
        "tags": []
      },
      "source": [
        "## Asking and Answering Questions"
      ]
    },
    {
      "attachments": {},
      "cell_type": "markdown",
      "id": "0c7683a3",
      "metadata": {
        "id": "0c7683a3",
        "papermill": {
          "duration": 0.018176,
          "end_time": "2023-06-18T18:38:07.599066",
          "exception": false,
          "start_time": "2023-06-18T18:38:07.580890",
          "status": "completed"
        },
        "tags": []
      },
      "source": [
        "#### Q1: How is it Clear from our dataset that Data Science is growing field over years?"
      ]
    },
    {
      "cell_type": "code",
      "execution_count": null,
      "id": "db94fd8d",
      "metadata": {
        "execution": {
          "iopub.execute_input": "2023-06-18T18:38:07.638680Z",
          "iopub.status.busy": "2023-06-18T18:38:07.638234Z",
          "iopub.status.idle": "2023-06-18T18:38:07.647201Z",
          "shell.execute_reply": "2023-06-18T18:38:07.646283Z"
        },
        "id": "db94fd8d",
        "outputId": "725be21d-1295-44b0-d274-d079d9224eab",
        "papermill": {
          "duration": 0.032024,
          "end_time": "2023-06-18T18:38:07.649531",
          "exception": false,
          "start_time": "2023-06-18T18:38:07.617507",
          "status": "completed"
        },
        "tags": []
      },
      "outputs": [
        {
          "data": {
            "text/plain": [
              "2023    1785\n",
              "2022    1664\n",
              "2021     230\n",
              "2020      76\n",
              "Name: work_year, dtype: int64"
            ]
          },
          "execution_count": 20,
          "metadata": {},
          "output_type": "execute_result"
        }
      ],
      "source": [
        "work_year = data.work_year.value_counts()\n",
        "work_year"
      ]
    },
    {
      "cell_type": "code",
      "execution_count": null,
      "id": "86226760",
      "metadata": {
        "execution": {
          "iopub.execute_input": "2023-06-18T18:38:07.689798Z",
          "iopub.status.busy": "2023-06-18T18:38:07.688885Z",
          "iopub.status.idle": "2023-06-18T18:38:08.125630Z",
          "shell.execute_reply": "2023-06-18T18:38:08.123818Z"
        },
        "id": "86226760",
        "outputId": "9319789e-d92f-4234-8c34-f3eb12e741f0",
        "papermill": {
          "duration": 0.460626,
          "end_time": "2023-06-18T18:38:08.128799",
          "exception": false,
          "start_time": "2023-06-18T18:38:07.668173",
          "status": "completed"
        },
        "tags": []
      },
      "outputs": [
        {
          "data": {
            "image/png": "[encoded data removed]",
            "text/plain": [
              "<Figure size 1000x600 with 1 Axes>"
            ]
          },
          "metadata": {
            "needs_background": "light"
          },
          "output_type": "display_data"
        }
      ],
      "source": [
        "plt.figure(figsize=(10,6))\n",
        "plt.xticks(rotation=0)\n",
        "plt.title(\"The Growth of DS Employees Over 4 Years\")\n",
        "plt.ylabel('Counts')\n",
        "plt.xlabel('Year')\n",
        "\n",
        "sns.barplot(y=work_year.values, x= work_year.index);"
      ]
    },
    {
      "attachments": {},
      "cell_type": "markdown",
      "id": "b9bf91b7",
      "metadata": {
        "id": "b9bf91b7",
        "papermill": {
          "duration": 0.021971,
          "end_time": "2023-06-18T18:38:08.172979",
          "exception": false,
          "start_time": "2023-06-18T18:38:08.151008",
          "status": "completed"
        },
        "tags": []
      },
      "source": [
        "it is clear that the number of employees increases year after year"
      ]
    },
    {
      "attachments": {},
      "cell_type": "markdown",
      "id": "e0a184c4",
      "metadata": {
        "id": "e0a184c4",
        "papermill": {
          "duration": 0.018808,
          "end_time": "2023-06-18T18:38:08.211074",
          "exception": false,
          "start_time": "2023-06-18T18:38:08.192266",
          "status": "completed"
        },
        "tags": []
      },
      "source": [
        "#### Q2: How to measure the growth of Data Scince employees in terms of Salaries?"
      ]
    },
    {
      "cell_type": "code",
      "execution_count": null,
      "id": "cc5b8771",
      "metadata": {
        "execution": {
          "iopub.execute_input": "2023-06-18T18:38:08.252107Z",
          "iopub.status.busy": "2023-06-18T18:38:08.251230Z",
          "iopub.status.idle": "2023-06-18T18:38:08.671152Z",
          "shell.execute_reply": "2023-06-18T18:38:08.670028Z"
        },
        "id": "cc5b8771",
        "outputId": "eb437cbe-9ee6-4a85-d1b6-06f761304949",
        "papermill": {
          "duration": 0.443636,
          "end_time": "2023-06-18T18:38:08.673643",
          "exception": false,
          "start_time": "2023-06-18T18:38:08.230007",
          "status": "completed"
        },
        "tags": []
      },
      "outputs": [
        {
          "data": {
            "image/png": "[encoded data removed]",
            "text/plain": [
              "<Figure size 900x500 with 1 Axes>"
            ]
          },
          "metadata": {
            "needs_background": "light"
          },
          "output_type": "display_data"
        }
      ],
      "source": [
        "year_salary=data['salary_in_usd'].groupby(data['work_year']).mean()\n",
        "\n",
        "plt.title(\"Average Salaries based on Work Year\")\n",
        "plt.xlabel('Work Year')\n",
        "plt.ylabel('Salary')\n",
        "sns.lineplot(x=['2020', '2021', '2022','2023'],y=year_salary);"
      ]
    },
    {
      "attachments": {},
      "cell_type": "markdown",
      "id": "2715efeb",
      "metadata": {
        "id": "2715efeb",
        "papermill": {
          "duration": 0.019171,
          "end_time": "2023-06-18T18:38:08.712129",
          "exception": false,
          "start_time": "2023-06-18T18:38:08.692958",
          "status": "completed"
        },
        "tags": []
      },
      "source": [
        "The Average salary of data scientist employee increases year by year which is answering the question."
      ]
    },
    {
      "attachments": {},
      "cell_type": "markdown",
      "id": "a734a0ff",
      "metadata": {
        "id": "a734a0ff",
        "papermill": {
          "duration": 0.019304,
          "end_time": "2023-06-18T18:38:08.751633",
          "exception": false,
          "start_time": "2023-06-18T18:38:08.732329",
          "status": "completed"
        },
        "tags": []
      },
      "source": [
        "#### Q3: how the level of experience  affect the salary?"
      ]
    },
    {
      "cell_type": "code",
      "execution_count": null,
      "id": "1da0c3e0",
      "metadata": {
        "execution": {
          "iopub.execute_input": "2023-06-18T18:38:08.792469Z",
          "iopub.status.busy": "2023-06-18T18:38:08.791839Z",
          "iopub.status.idle": "2023-06-18T18:38:09.201139Z",
          "shell.execute_reply": "2023-06-18T18:38:09.199751Z"
        },
        "id": "1da0c3e0",
        "outputId": "740acabc-dad8-46d1-bdee-a768795a01ed",
        "papermill": {
          "duration": 0.432995,
          "end_time": "2023-06-18T18:38:09.203871",
          "exception": false,
          "start_time": "2023-06-18T18:38:08.770876",
          "status": "completed"
        },
        "tags": []
      },
      "outputs": [
        {
          "data": {
            "image/png": "[encoded data removed]",
            "text/plain": [
              "<Figure size 900x500 with 1 Axes>"
            ]
          },
          "metadata": {
            "needs_background": "light"
          },
          "output_type": "display_data"
        }
      ],
      "source": [
        "exp_salary=data['salary_in_usd'].groupby(data['experience_level']).mean()\n",
        "\n",
        "plt.title(\"Average Salaries based on Experience\")\n",
        "plt.xlabel('Experiance level')\n",
        "plt.ylabel('Salary')\n",
        "sns.barplot(x=['Entry level', 'Executive level', 'Senior level', 'Intermediate level'],y=exp_salary.values);"
      ]
    },
    {
      "attachments": {},
      "cell_type": "markdown",
      "id": "545a62d1",
      "metadata": {
        "id": "545a62d1",
        "papermill": {
          "duration": 0.019429,
          "end_time": "2023-06-18T18:38:09.242996",
          "exception": false,
          "start_time": "2023-06-18T18:38:09.223567",
          "status": "completed"
        },
        "tags": []
      },
      "source": [
        "The ascending order of average salaries based on Experience level: Entry level, Senior level, Intermediate level, Executive level"
      ]
    },
    {
      "attachments": {},
      "cell_type": "markdown",
      "id": "96dc44ed",
      "metadata": {
        "id": "96dc44ed",
        "papermill": {
          "duration": 0.020629,
          "end_time": "2023-06-18T18:38:09.283629",
          "exception": false,
          "start_time": "2023-06-18T18:38:09.263000",
          "status": "completed"
        },
        "tags": []
      },
      "source": [
        "#### Q4: What is the order of employment types in terms of salary?"
      ]
    },
    {
      "cell_type": "code",
      "execution_count": null,
      "id": "68b7bcf0",
      "metadata": {
        "execution": {
          "iopub.execute_input": "2023-06-18T18:38:09.325823Z",
          "iopub.status.busy": "2023-06-18T18:38:09.325407Z",
          "iopub.status.idle": "2023-06-18T18:38:09.781758Z",
          "shell.execute_reply": "2023-06-18T18:38:09.780447Z"
        },
        "id": "68b7bcf0",
        "outputId": "2de7b311-fbf1-438d-f27c-31cd775deb47",
        "papermill": {
          "duration": 0.480776,
          "end_time": "2023-06-18T18:38:09.784470",
          "exception": false,
          "start_time": "2023-06-18T18:38:09.303694",
          "status": "completed"
        },
        "tags": []
      },
      "outputs": [
        {
          "data": {
            "image/png": "[encoded data removed]",
            "text/plain": [
              "<Figure size 900x500 with 1 Axes>"
            ]
          },
          "metadata": {
            "needs_background": "light"
          },
          "output_type": "display_data"
        }
      ],
      "source": [
        "data['salary_in_usd'].groupby(data['employment_type']).mean()\n",
        "\n",
        "employ_type_salary=data['salary_in_usd'].groupby(data['employment_type']).mean()\n",
        "plt.title(\"Average Salaries based on Employment Type\")\n",
        "plt.ylabel('Employment Type')\n",
        "plt.xlabel('Salary')\n",
        "sns.barplot(y=['Contract', 'Freelance', 'Full Time', 'Part Time'],x=employ_type_salary.values);"
      ]
    },
    {
      "attachments": {},
      "cell_type": "markdown",
      "id": "d7cab846",
      "metadata": {
        "id": "d7cab846",
        "papermill": {
          "duration": 0.020021,
          "end_time": "2023-06-18T18:38:09.824991",
          "exception": false,
          "start_time": "2023-06-18T18:38:09.804970",
          "status": "completed"
        },
        "tags": []
      },
      "source": [
        "Of course the \"full-time\" type is the highest salary of the other types."
      ]
    },
    {
      "attachments": {},
      "cell_type": "markdown",
      "id": "225bc4b8",
      "metadata": {
        "id": "225bc4b8",
        "papermill": {
          "duration": 0.020476,
          "end_time": "2023-06-18T18:38:09.865963",
          "exception": false,
          "start_time": "2023-06-18T18:38:09.845487",
          "status": "completed"
        },
        "tags": []
      },
      "source": [
        "#### Q5: Sort the Countries which have the dominance in number of data science Companies."
      ]
    },
    {
      "cell_type": "code",
      "execution_count": null,
      "id": "b855f0be",
      "metadata": {
        "execution": {
          "iopub.execute_input": "2023-06-18T18:38:09.909393Z",
          "iopub.status.busy": "2023-06-18T18:38:09.909001Z",
          "iopub.status.idle": "2023-06-18T18:38:10.425073Z",
          "shell.execute_reply": "2023-06-18T18:38:10.423698Z"
        },
        "id": "b855f0be",
        "outputId": "d2bee89d-93a9-49a7-b8db-3ee7e3fa9bdc",
        "papermill": {
          "duration": 0.540962,
          "end_time": "2023-06-18T18:38:10.427773",
          "exception": false,
          "start_time": "2023-06-18T18:38:09.886811",
          "status": "completed"
        },
        "tags": []
      },
      "outputs": [
        {
          "data": {
            "image/png": "[encoded data removed]",
            "text/plain": [
              "<Figure size 1200x600 with 1 Axes>"
            ]
          },
          "metadata": {
            "needs_background": "light"
          },
          "output_type": "display_data"
        }
      ],
      "source": [
        "countries = data.employee_residence.value_counts().head(10)\n",
        "\n",
        "plt.figure(figsize=(12,6))\n",
        "plt.xticks(rotation=0)\n",
        "plt.title(\"The Top 10 Countries\")\n",
        "plt.ylabel('Country')\n",
        "plt.xlabel('Counts')\n",
        "\n",
        "sns.barplot(y=countries.index, x= countries.values);"
      ]
    },
    {
      "attachments": {},
      "cell_type": "markdown",
      "id": "793d6f2e",
      "metadata": {
        "id": "793d6f2e",
        "papermill": {
          "duration": 0.021908,
          "end_time": "2023-06-18T18:38:10.471646",
          "exception": false,
          "start_time": "2023-06-18T18:38:10.449738",
          "status": "completed"
        },
        "tags": []
      },
      "source": [
        "The United States has the highest number of companies hiring data science employees"
      ]
    },
    {
      "cell_type": "code",
      "execution_count": null,
      "id": "-r5PHHBzG-_c",
      "metadata": {
        "colab": {
          "base_uri": "https://localhost:8080/",
          "height": 168,
          "referenced_widgets": [
            "59882b5546094069a9053654f49f4a71",
            "b184f0e27ce54b0fa2d0c357231cedb7",
            "056387f97ab84cf39bff9eb021144a58",
            "d8b53757ca854d189238d8cd3d5c16ad",
            "24baf274b4ad42c59c7cd6a4ad899cc6",
            "ecb0ac4374d9402dae52ffd4080a17e9",
            "fe8edec5001e4190beff28cfc409aba7",
            "34a94e3216184b119ae46b5281ee058e",
            "fc930eec8a24497ea8fc057133424d90",
            "66282e674446443b963e8a2728beed66",
            "1c33c5056314425aa9c0fffb77ec5d31",
            "1abb06d68b7e4d739b12abad167952fb",
            "94c57c6a74204c9c85a974792ac10c30",
            "bfd2606fb34d48b89dd481a292207dc8",
            "d02d74951ea143ddb85072b2509a48d8",
            "f17886ff23834728aeb863505cabb9a4",
            "824383c81b084c12b444c57e2a9494a4",
            "779aa8553aa0430e95a368cf4a44eca0",
            "b3681211a4db4158b2ac311fb5fd33e3",
            "927ddc5102044fabbdec78e746c81db6",
            "df2e0482365e4c1d812ebab831ff487c",
            "b4626218f8074021b3d295f788484731",
            "a11c804d4d0b452c91251d8f778b05c0",
            "3e9349eb88dd41a0a7035098197781c7",
            "0b3807900f874abaad5cc5feeb3a0843",
            "f05f145db1fc443b92743942d65c7c3b",
            "2d3f7f2695714dfa8d1c8f15faecde0d",
            "541c9e55cca24f00b3fafabd0625e039",
            "275f372f255544edb92b1af0a1b6b46a",
            "25b63b8c70bf44deb5370c9261c119b6",
            "019cebac005c412d973eafaaa5c72619",
            "3dc7cf050cbb4432b30ff5874bdf896a",
            "d4e0df24e05a4943a3d3f823cf647a16"
          ]
        },
        "id": "-r5PHHBzG-_c",
        "outputId": "01285afd-6c89-4694-9f3a-e7dff2d73897"
      },
      "outputs": [
        {
          "name": "stderr",
          "output_type": "stream",
          "text": [
            "/usr/local/lib/python3.10/dist-packages/pandas_profiling/profile_report.py:457: UserWarning: Ipywidgets is not yet fully supported on Google Colab (https://github.com/googlecolab/colabtools/issues/60).As an alternative, you can use the HTML report. See the documentation for more information.\n",
            "  warnings.warn(\n"
          ]
        },
        {
          "data": {
            "application/vnd.jupyter.widget-view+json": {
              "model_id": "59882b5546094069a9053654f49f4a71",
              "version_major": 2,
              "version_minor": 0
            },
            "text/plain": [
              "Summarize dataset:   0%|          | 0/5 [00:00<?, ?it/s]"
            ]
          },
          "metadata": {},
          "output_type": "display_data"
        },
        {
          "data": {
            "application/vnd.jupyter.widget-view+json": {
              "model_id": "1abb06d68b7e4d739b12abad167952fb",
              "version_major": 2,
              "version_minor": 0
            },
            "text/plain": [
              "Generate report structure:   0%|          | 0/1 [00:00<?, ?it/s]"
            ]
          },
          "metadata": {},
          "output_type": "display_data"
        },
        {
          "data": {
            "application/vnd.jupyter.widget-view+json": {
              "model_id": "a11c804d4d0b452c91251d8f778b05c0",
              "version_major": 2,
              "version_minor": 0
            },
            "text/plain": [
              "Render widgets:   0%|          | 0/1 [00:00<?, ?it/s]"
            ]
          },
          "metadata": {},
          "output_type": "display_data"
        }
      ],
      "source": [
        "profile = ProfileReport(data)\n",
        "profile.to_widgets()"
      ]
    },
    {
      "attachments": {},
      "cell_type": "markdown",
      "id": "6a6972c0",
      "metadata": {
        "id": "6a6972c0",
        "papermill": {
          "duration": 0.022595,
          "end_time": "2023-06-18T18:38:10.516402",
          "exception": false,
          "start_time": "2023-06-18T18:38:10.493807",
          "status": "completed"
        },
        "tags": []
      },
      "source": [
        "## Conclusion\n",
        "\n",
        "\n",
        "Data Science is one of the most in-demand and rapidly growing fields in the world. In this project, we covered the data science field salaries in detail. When we look the graphs, we can see that the popularity of data science continues"
      ]
    },
    {
      "attachments": {},
      "cell_type": "markdown",
      "id": "s_fFAVccHRMt",
      "metadata": {
        "id": "s_fFAVccHRMt"
      },
      "source": [
        "#TENSORFLOW"
      ]
    },
    {
      "cell_type": "code",
      "execution_count": 1,
      "id": "KcENQVTsHdvx",
      "metadata": {
        "colab": {
          "base_uri": "https://localhost:8080/"
        },
        "id": "KcENQVTsHdvx",
        "outputId": "e90f9c14-ad6f-42cc-e81d-9e197306bea3"
      },
      "outputs": [
        {
          "name": "stdout",
          "output_type": "stream",
          "text": [
            "Looking in indexes: https://pypi.org/simple, https://us-python.pkg.dev/colab-wheels/public/simple/\n",
            "Collecting sklearn\n",
            "  Downloading sklearn-0.0.post5.tar.gz (3.7 kB)\n",
            "  Preparing metadata (setup.py) ... \u001b[?25l\u001b[?25hdone\n",
            "Building wheels for collected packages: sklearn\n",
            "  Building wheel for sklearn (setup.py) ... \u001b[?25l\u001b[?25hdone\n",
            "  Created wheel for sklearn: filename=sklearn-0.0.post5-py3-none-any.whl size=2950 sha256=ec40b338b9df105864e13b4f48bd3c08eda16947b6b77665456668f088754de9\n",
            "  Stored in directory: /root/.cache/pip/wheels/38/1f/8d/4f812c590e074c1e928f5cec67bf5053b71f38e2648739403a\n",
            "Successfully built sklearn\n",
            "Installing collected packages: sklearn\n",
            "Successfully installed sklearn-0.0.post5\n"
          ]
        }
      ],
      "source": [
        "!pip install sklearn"
      ]
    },
    {
      "cell_type": "code",
      "execution_count": 2,
      "id": "dPrxWa-eHISQ",
      "metadata": {
        "colab": {
          "base_uri": "https://localhost:8080/",
          "height": 232
        },
        "id": "dPrxWa-eHISQ",
        "outputId": "999823ab-9b4b-47a2-f6e2-16983dfc1c3a"
      },
      "outputs": [
        {
          "ename": "NameError",
          "evalue": "ignored",
          "output_type": "error",
          "traceback": [
            "\u001b[0;31m---------------------------------------------------------------------------\u001b[0m",
            "\u001b[0;31mNameError\u001b[0m                                 Traceback (most recent call last)",
            "\u001b[0;32m<ipython-input-2-2071f0404b88>\u001b[0m in \u001b[0;36m<cell line: 5>\u001b[0;34m()\u001b[0m\n\u001b[1;32m      3\u001b[0m \u001b[0;34m\u001b[0m\u001b[0m\n\u001b[1;32m      4\u001b[0m \u001b[0mcols\u001b[0m \u001b[0;34m=\u001b[0m \u001b[0;34m[\u001b[0m\u001b[0;34m'experience_level'\u001b[0m\u001b[0;34m,\u001b[0m \u001b[0;34m'employment_type'\u001b[0m\u001b[0;34m,\u001b[0m \u001b[0;34m'job_title'\u001b[0m\u001b[0;34m,\u001b[0m\u001b[0;34m'salary_currency'\u001b[0m\u001b[0;34m,\u001b[0m\u001b[0;34m'employee_residence'\u001b[0m\u001b[0;34m,\u001b[0m\u001b[0;34m'company_location'\u001b[0m\u001b[0;34m,\u001b[0m\u001b[0;34m'company_size'\u001b[0m\u001b[0;34m]\u001b[0m\u001b[0;34m\u001b[0m\u001b[0;34m\u001b[0m\u001b[0m\n\u001b[0;32m----> 5\u001b[0;31m \u001b[0mdata\u001b[0m\u001b[0;34m[\u001b[0m\u001b[0mcols\u001b[0m\u001b[0;34m]\u001b[0m\u001b[0;34m=\u001b[0m\u001b[0mdata\u001b[0m\u001b[0;34m[\u001b[0m\u001b[0mcols\u001b[0m\u001b[0;34m]\u001b[0m\u001b[0;34m.\u001b[0m\u001b[0mapply\u001b[0m\u001b[0;34m(\u001b[0m\u001b[0mLabelEncoder\u001b[0m\u001b[0;34m(\u001b[0m\u001b[0;34m)\u001b[0m\u001b[0;34m.\u001b[0m\u001b[0mfit_transform\u001b[0m\u001b[0;34m)\u001b[0m\u001b[0;34m\u001b[0m\u001b[0;34m\u001b[0m\u001b[0m\n\u001b[0m\u001b[1;32m      6\u001b[0m \u001b[0;34m\u001b[0m\u001b[0m\n\u001b[1;32m      7\u001b[0m \u001b[0;31m# Create X, y\u001b[0m\u001b[0;34m\u001b[0m\u001b[0;34m\u001b[0m\u001b[0m\n",
            "\u001b[0;31mNameError\u001b[0m: name 'data' is not defined"
          ]
        }
      ],
      "source": [
        "from sklearn.preprocessing import LabelEncoder\n",
        "from sklearn.model_selection import train_test_split\n",
        "\n",
        "cols = ['experience_level', 'employment_type', 'job_title','salary_currency','employee_residence','company_location','company_size']\n",
        "data[cols]=data[cols].apply(LabelEncoder().fit_transform)\n",
        "\n",
        "# Create X, y\n",
        "X = data.drop([\"salary_in_usd\"], axis=1)\n",
        "y = data[\"salary_in_usd\"]\n",
        "\n",
        "# Build train and test sets\n",
        "X_train, X_test, y_train, y_test = train_test_split(X, y, test_size=0.2, random_state=42)\n",
        "\n",
        "data.info()"
      ]
    },
    {
      "cell_type": "code",
      "execution_count": null,
      "id": "FHEL3f3TH7hd",
      "metadata": {
        "colab": {
          "base_uri": "https://localhost:8080/",
          "height": 206
        },
        "id": "FHEL3f3TH7hd",
        "outputId": "b4952ca0-864c-43ac-8a69-79b3f4e0f14b"
      },
      "outputs": [
        {
          "data": {
            "text/html": [
              "\n",
              "  <div id=\"df-d343be55-f2c3-4f06-9dff-e7701e22ac71\">\n",
              "    <div class=\"colab-df-container\">\n",
              "      <div>\n",
              "<style scoped>\n",
              "    .dataframe tbody tr th:only-of-type {\n",
              "        vertical-align: middle;\n",
              "    }\n",
              "\n",
              "    .dataframe tbody tr th {\n",
              "        vertical-align: top;\n",
              "    }\n",
              "\n",
              "    .dataframe thead th {\n",
              "        text-align: right;\n",
              "    }\n",
              "</style>\n",
              "<table border=\"1\" class=\"dataframe\">\n",
              "  <thead>\n",
              "    <tr style=\"text-align: right;\">\n",
              "      <th></th>\n",
              "      <th>work_year</th>\n",
              "      <th>experience_level</th>\n",
              "      <th>employment_type</th>\n",
              "      <th>job_title</th>\n",
              "      <th>salary</th>\n",
              "      <th>salary_currency</th>\n",
              "      <th>salary_in_usd</th>\n",
              "      <th>employee_residence</th>\n",
              "      <th>remote_ratio</th>\n",
              "      <th>company_location</th>\n",
              "      <th>company_size</th>\n",
              "    </tr>\n",
              "  </thead>\n",
              "  <tbody>\n",
              "    <tr>\n",
              "      <th>0</th>\n",
              "      <td>2023</td>\n",
              "      <td>3</td>\n",
              "      <td>2</td>\n",
              "      <td>84</td>\n",
              "      <td>80000</td>\n",
              "      <td>7</td>\n",
              "      <td>85847</td>\n",
              "      <td>26</td>\n",
              "      <td>100</td>\n",
              "      <td>25</td>\n",
              "      <td>0</td>\n",
              "    </tr>\n",
              "    <tr>\n",
              "      <th>1</th>\n",
              "      <td>2023</td>\n",
              "      <td>2</td>\n",
              "      <td>0</td>\n",
              "      <td>66</td>\n",
              "      <td>30000</td>\n",
              "      <td>19</td>\n",
              "      <td>30000</td>\n",
              "      <td>75</td>\n",
              "      <td>100</td>\n",
              "      <td>70</td>\n",
              "      <td>2</td>\n",
              "    </tr>\n",
              "    <tr>\n",
              "      <th>2</th>\n",
              "      <td>2023</td>\n",
              "      <td>2</td>\n",
              "      <td>0</td>\n",
              "      <td>66</td>\n",
              "      <td>25500</td>\n",
              "      <td>19</td>\n",
              "      <td>25500</td>\n",
              "      <td>75</td>\n",
              "      <td>100</td>\n",
              "      <td>70</td>\n",
              "      <td>2</td>\n",
              "    </tr>\n",
              "    <tr>\n",
              "      <th>3</th>\n",
              "      <td>2023</td>\n",
              "      <td>3</td>\n",
              "      <td>2</td>\n",
              "      <td>47</td>\n",
              "      <td>175000</td>\n",
              "      <td>19</td>\n",
              "      <td>175000</td>\n",
              "      <td>11</td>\n",
              "      <td>100</td>\n",
              "      <td>12</td>\n",
              "      <td>1</td>\n",
              "    </tr>\n",
              "    <tr>\n",
              "      <th>4</th>\n",
              "      <td>2023</td>\n",
              "      <td>3</td>\n",
              "      <td>2</td>\n",
              "      <td>47</td>\n",
              "      <td>120000</td>\n",
              "      <td>19</td>\n",
              "      <td>120000</td>\n",
              "      <td>11</td>\n",
              "      <td>100</td>\n",
              "      <td>12</td>\n",
              "      <td>1</td>\n",
              "    </tr>\n",
              "  </tbody>\n",
              "</table>\n",
              "</div>\n",
              "      <button class=\"colab-df-convert\" onclick=\"convertToInteractive('df-d343be55-f2c3-4f06-9dff-e7701e22ac71')\"\n",
              "              title=\"Convert this dataframe to an interactive table.\"\n",
              "              style=\"display:none;\">\n",
              "        \n",
              "  <svg xmlns=\"http://www.w3.org/2000/svg\" height=\"24px\"viewBox=\"0 0 24 24\"\n",
              "       width=\"24px\">\n",
              "    <path d=\"M0 0h24v24H0V0z\" fill=\"none\"/>\n",
              "    <path d=\"M18.56 5.44l.94 2.06.94-2.06 2.06-.94-2.06-.94-.94-2.06-.94 2.06-2.06.94zm-11 1L8.5 8.5l.94-2.06 2.06-.94-2.06-.94L8.5 2.5l-.94 2.06-2.06.94zm10 10l.94 2.06.94-2.06 2.06-.94-2.06-.94-.94-2.06-.94 2.06-2.06.94z\"/><path d=\"M17.41 7.96l-1.37-1.37c-.4-.4-.92-.59-1.43-.59-.52 0-1.04.2-1.43.59L10.3 9.45l-7.72 7.72c-.78.78-.78 2.05 0 2.83L4 21.41c.39.39.9.59 1.41.59.51 0 1.02-.2 1.41-.59l7.78-7.78 2.81-2.81c.8-.78.8-2.07 0-2.86zM5.41 20L4 18.59l7.72-7.72 1.47 1.35L5.41 20z\"/>\n",
              "  </svg>\n",
              "      </button>\n",
              "      \n",
              "  <style>\n",
              "    .colab-df-container {\n",
              "      display:flex;\n",
              "      flex-wrap:wrap;\n",
              "      gap: 12px;\n",
              "    }\n",
              "\n",
              "    .colab-df-convert {\n",
              "      background-color: #E8F0FE;\n",
              "      border: none;\n",
              "      border-radius: 50%;\n",
              "      cursor: pointer;\n",
              "      display: none;\n",
              "      fill: #1967D2;\n",
              "      height: 32px;\n",
              "      padding: 0 0 0 0;\n",
              "      width: 32px;\n",
              "    }\n",
              "\n",
              "    .colab-df-convert:hover {\n",
              "      background-color: #E2EBFA;\n",
              "      box-shadow: 0px 1px 2px rgba(60, 64, 67, 0.3), 0px 1px 3px 1px rgba(60, 64, 67, 0.15);\n",
              "      fill: #174EA6;\n",
              "    }\n",
              "\n",
              "    [theme=dark] .colab-df-convert {\n",
              "      background-color: #3B4455;\n",
              "      fill: #D2E3FC;\n",
              "    }\n",
              "\n",
              "    [theme=dark] .colab-df-convert:hover {\n",
              "      background-color: #434B5C;\n",
              "      box-shadow: 0px 1px 3px 1px rgba(0, 0, 0, 0.15);\n",
              "      filter: drop-shadow(0px 1px 2px rgba(0, 0, 0, 0.3));\n",
              "      fill: #FFFFFF;\n",
              "    }\n",
              "  </style>\n",
              "\n",
              "      <script>\n",
              "        const buttonEl =\n",
              "          document.querySelector('#df-d343be55-f2c3-4f06-9dff-e7701e22ac71 button.colab-df-convert');\n",
              "        buttonEl.style.display =\n",
              "          google.colab.kernel.accessAllowed ? 'block' : 'none';\n",
              "\n",
              "        async function convertToInteractive(key) {\n",
              "          const element = document.querySelector('#df-d343be55-f2c3-4f06-9dff-e7701e22ac71');\n",
              "          const dataTable =\n",
              "            await google.colab.kernel.invokeFunction('convertToInteractive',\n",
              "                                                     [key], {});\n",
              "          if (!dataTable) return;\n",
              "\n",
              "          const docLinkHtml = 'Like what you see? Visit the ' +\n",
              "            '<a target=\"_blank\" href=https://colab.research.google.com/notebooks/data_table.ipynb>data table notebook</a>'\n",
              "            + ' to learn more about interactive tables.';\n",
              "          element.innerHTML = '';\n",
              "          dataTable['output_type'] = 'display_data';\n",
              "          await google.colab.output.renderOutput(dataTable, element);\n",
              "          const docLink = document.createElement('div');\n",
              "          docLink.innerHTML = docLinkHtml;\n",
              "          element.appendChild(docLink);\n",
              "        }\n",
              "      </script>\n",
              "    </div>\n",
              "  </div>\n",
              "  "
            ],
            "text/plain": [
              "   work_year  experience_level  employment_type  job_title  salary  \\\n",
              "0       2023                 3                2         84   80000   \n",
              "1       2023                 2                0         66   30000   \n",
              "2       2023                 2                0         66   25500   \n",
              "3       2023                 3                2         47  175000   \n",
              "4       2023                 3                2         47  120000   \n",
              "\n",
              "   salary_currency  salary_in_usd  employee_residence  remote_ratio  \\\n",
              "0                7          85847                  26           100   \n",
              "1               19          30000                  75           100   \n",
              "2               19          25500                  75           100   \n",
              "3               19         175000                  11           100   \n",
              "4               19         120000                  11           100   \n",
              "\n",
              "   company_location  company_size  \n",
              "0                25             0  \n",
              "1                70             2  \n",
              "2                70             2  \n",
              "3                12             1  \n",
              "4                12             1  "
            ]
          },
          "execution_count": 18,
          "metadata": {},
          "output_type": "execute_result"
        }
      ],
      "source": [
        "data.head()"
      ]
    }
  ],
  "metadata": {
    "colab": {
      "provenance": []
    },
    "kernelspec": {
      "display_name": "Python 3",
      "language": "python",
      "name": "python3"
    },
    "language_info": {
      "codemirror_mode": {
        "name": "ipython",
        "version": 3
      },
      "file_extension": ".py",
      "mimetype": "text/x-python",
      "name": "python",
      "nbconvert_exporter": "python",
      "pygments_lexer": "ipython3",
      "version": "3.9.12"
    },
    "papermill": {
      "default_parameters": {},
      "duration": 22.605489,
      "end_time": "2023-06-18T18:38:11.966851",
      "environment_variables": {},
      "exception": null,
      "input_path": "__notebook__.ipynb",
      "output_path": "__notebook__.ipynb",
      "parameters": {},
      "start_time": "2023-06-18T18:37:49.361362",
      "version": "2.4.0"
    },
    "widgets": {
      "application/vnd.jupyter.widget-state+json": {
        "019cebac005c412d973eafaaa5c72619": {
          "model_module": "@jupyter-widgets/controls",
          "model_module_version": "1.5.0",
          "model_name": "ProgressStyleModel",
          "state": {
            "_model_module": "@jupyter-widgets/controls",
            "_model_module_version": "1.5.0",
            "_model_name": "ProgressStyleModel",
            "_view_count": null,
            "_view_module": "@jupyter-widgets/base",
            "_view_module_version": "1.2.0",
            "_view_name": "StyleView",
            "bar_color": null,
            "description_width": ""
          }
        },
        "056387f97ab84cf39bff9eb021144a58": {
          "model_module": "@jupyter-widgets/controls",
          "model_module_version": "1.5.0",
          "model_name": "FloatProgressModel",
          "state": {
            "_dom_classes": [],
            "_model_module": "@jupyter-widgets/controls",
            "_model_module_version": "1.5.0",
            "_model_name": "FloatProgressModel",
            "_view_count": null,
            "_view_module": "@jupyter-widgets/controls",
            "_view_module_version": "1.5.0",
            "_view_name": "ProgressView",
            "bar_style": "success",
            "description": "",
            "description_tooltip": null,
            "layout": "IPY_MODEL_34a94e3216184b119ae46b5281ee058e",
            "max": 5,
            "min": 0,
            "orientation": "horizontal",
            "style": "IPY_MODEL_fc930eec8a24497ea8fc057133424d90",
            "value": 5
          }
        },
        "0b3807900f874abaad5cc5feeb3a0843": {
          "model_module": "@jupyter-widgets/controls",
          "model_module_version": "1.5.0",
          "model_name": "FloatProgressModel",
          "state": {
            "_dom_classes": [],
            "_model_module": "@jupyter-widgets/controls",
            "_model_module_version": "1.5.0",
            "_model_name": "FloatProgressModel",
            "_view_count": null,
            "_view_module": "@jupyter-widgets/controls",
            "_view_module_version": "1.5.0",
            "_view_name": "ProgressView",
            "bar_style": "",
            "description": "",
            "description_tooltip": null,
            "layout": "IPY_MODEL_25b63b8c70bf44deb5370c9261c119b6",
            "max": 1,
            "min": 0,
            "orientation": "horizontal",
            "style": "IPY_MODEL_019cebac005c412d973eafaaa5c72619",
            "value": 0
          }
        },
        "1abb06d68b7e4d739b12abad167952fb": {
          "model_module": "@jupyter-widgets/controls",
          "model_module_version": "1.5.0",
          "model_name": "HBoxModel",
          "state": {
            "_dom_classes": [],
            "_model_module": "@jupyter-widgets/controls",
            "_model_module_version": "1.5.0",
            "_model_name": "HBoxModel",
            "_view_count": null,
            "_view_module": "@jupyter-widgets/controls",
            "_view_module_version": "1.5.0",
            "_view_name": "HBoxView",
            "box_style": "",
            "children": [
              "IPY_MODEL_94c57c6a74204c9c85a974792ac10c30",
              "IPY_MODEL_bfd2606fb34d48b89dd481a292207dc8",
              "IPY_MODEL_d02d74951ea143ddb85072b2509a48d8"
            ],
            "layout": "IPY_MODEL_f17886ff23834728aeb863505cabb9a4"
          }
        },
        "1c33c5056314425aa9c0fffb77ec5d31": {
          "model_module": "@jupyter-widgets/controls",
          "model_module_version": "1.5.0",
          "model_name": "DescriptionStyleModel",
          "state": {
            "_model_module": "@jupyter-widgets/controls",
            "_model_module_version": "1.5.0",
            "_model_name": "DescriptionStyleModel",
            "_view_count": null,
            "_view_module": "@jupyter-widgets/base",
            "_view_module_version": "1.2.0",
            "_view_name": "StyleView",
            "description_width": ""
          }
        },
        "24baf274b4ad42c59c7cd6a4ad899cc6": {
          "model_module": "@jupyter-widgets/base",
          "model_module_version": "1.2.0",
          "model_name": "LayoutModel",
          "state": {
            "_model_module": "@jupyter-widgets/base",
            "_model_module_version": "1.2.0",
            "_model_name": "LayoutModel",
            "_view_count": null,
            "_view_module": "@jupyter-widgets/base",
            "_view_module_version": "1.2.0",
            "_view_name": "LayoutView",
            "align_content": null,
            "align_items": null,
            "align_self": null,
            "border": null,
            "bottom": null,
            "display": null,
            "flex": null,
            "flex_flow": null,
            "grid_area": null,
            "grid_auto_columns": null,
            "grid_auto_flow": null,
            "grid_auto_rows": null,
            "grid_column": null,
            "grid_gap": null,
            "grid_row": null,
            "grid_template_areas": null,
            "grid_template_columns": null,
            "grid_template_rows": null,
            "height": null,
            "justify_content": null,
            "justify_items": null,
            "left": null,
            "margin": null,
            "max_height": null,
            "max_width": null,
            "min_height": null,
            "min_width": null,
            "object_fit": null,
            "object_position": null,
            "order": null,
            "overflow": null,
            "overflow_x": null,
            "overflow_y": null,
            "padding": null,
            "right": null,
            "top": null,
            "visibility": null,
            "width": null
          }
        },
        "25b63b8c70bf44deb5370c9261c119b6": {
          "model_module": "@jupyter-widgets/base",
          "model_module_version": "1.2.0",
          "model_name": "LayoutModel",
          "state": {
            "_model_module": "@jupyter-widgets/base",
            "_model_module_version": "1.2.0",
            "_model_name": "LayoutModel",
            "_view_count": null,
            "_view_module": "@jupyter-widgets/base",
            "_view_module_version": "1.2.0",
            "_view_name": "LayoutView",
            "align_content": null,
            "align_items": null,
            "align_self": null,
            "border": null,
            "bottom": null,
            "display": null,
            "flex": null,
            "flex_flow": null,
            "grid_area": null,
            "grid_auto_columns": null,
            "grid_auto_flow": null,
            "grid_auto_rows": null,
            "grid_column": null,
            "grid_gap": null,
            "grid_row": null,
            "grid_template_areas": null,
            "grid_template_columns": null,
            "grid_template_rows": null,
            "height": null,
            "justify_content": null,
            "justify_items": null,
            "left": null,
            "margin": null,
            "max_height": null,
            "max_width": null,
            "min_height": null,
            "min_width": null,
            "object_fit": null,
            "object_position": null,
            "order": null,
            "overflow": null,
            "overflow_x": null,
            "overflow_y": null,
            "padding": null,
            "right": null,
            "top": null,
            "visibility": null,
            "width": null
          }
        },
        "275f372f255544edb92b1af0a1b6b46a": {
          "model_module": "@jupyter-widgets/controls",
          "model_module_version": "1.5.0",
          "model_name": "DescriptionStyleModel",
          "state": {
            "_model_module": "@jupyter-widgets/controls",
            "_model_module_version": "1.5.0",
            "_model_name": "DescriptionStyleModel",
            "_view_count": null,
            "_view_module": "@jupyter-widgets/base",
            "_view_module_version": "1.2.0",
            "_view_name": "StyleView",
            "description_width": ""
          }
        },
        "2d3f7f2695714dfa8d1c8f15faecde0d": {
          "model_module": "@jupyter-widgets/base",
          "model_module_version": "1.2.0",
          "model_name": "LayoutModel",
          "state": {
            "_model_module": "@jupyter-widgets/base",
            "_model_module_version": "1.2.0",
            "_model_name": "LayoutModel",
            "_view_count": null,
            "_view_module": "@jupyter-widgets/base",
            "_view_module_version": "1.2.0",
            "_view_name": "LayoutView",
            "align_content": null,
            "align_items": null,
            "align_self": null,
            "border": null,
            "bottom": null,
            "display": null,
            "flex": null,
            "flex_flow": null,
            "grid_area": null,
            "grid_auto_columns": null,
            "grid_auto_flow": null,
            "grid_auto_rows": null,
            "grid_column": null,
            "grid_gap": null,
            "grid_row": null,
            "grid_template_areas": null,
            "grid_template_columns": null,
            "grid_template_rows": null,
            "height": null,
            "justify_content": null,
            "justify_items": null,
            "left": null,
            "margin": null,
            "max_height": null,
            "max_width": null,
            "min_height": null,
            "min_width": null,
            "object_fit": null,
            "object_position": null,
            "order": null,
            "overflow": null,
            "overflow_x": null,
            "overflow_y": null,
            "padding": null,
            "right": null,
            "top": null,
            "visibility": null,
            "width": null
          }
        },
        "34a94e3216184b119ae46b5281ee058e": {
          "model_module": "@jupyter-widgets/base",
          "model_module_version": "1.2.0",
          "model_name": "LayoutModel",
          "state": {
            "_model_module": "@jupyter-widgets/base",
            "_model_module_version": "1.2.0",
            "_model_name": "LayoutModel",
            "_view_count": null,
            "_view_module": "@jupyter-widgets/base",
            "_view_module_version": "1.2.0",
            "_view_name": "LayoutView",
            "align_content": null,
            "align_items": null,
            "align_self": null,
            "border": null,
            "bottom": null,
            "display": null,
            "flex": null,
            "flex_flow": null,
            "grid_area": null,
            "grid_auto_columns": null,
            "grid_auto_flow": null,
            "grid_auto_rows": null,
            "grid_column": null,
            "grid_gap": null,
            "grid_row": null,
            "grid_template_areas": null,
            "grid_template_columns": null,
            "grid_template_rows": null,
            "height": null,
            "justify_content": null,
            "justify_items": null,
            "left": null,
            "margin": null,
            "max_height": null,
            "max_width": null,
            "min_height": null,
            "min_width": null,
            "object_fit": null,
            "object_position": null,
            "order": null,
            "overflow": null,
            "overflow_x": null,
            "overflow_y": null,
            "padding": null,
            "right": null,
            "top": null,
            "visibility": null,
            "width": null
          }
        },
        "3dc7cf050cbb4432b30ff5874bdf896a": {
          "model_module": "@jupyter-widgets/base",
          "model_module_version": "1.2.0",
          "model_name": "LayoutModel",
          "state": {
            "_model_module": "@jupyter-widgets/base",
            "_model_module_version": "1.2.0",
            "_model_name": "LayoutModel",
            "_view_count": null,
            "_view_module": "@jupyter-widgets/base",
            "_view_module_version": "1.2.0",
            "_view_name": "LayoutView",
            "align_content": null,
            "align_items": null,
            "align_self": null,
            "border": null,
            "bottom": null,
            "display": null,
            "flex": null,
            "flex_flow": null,
            "grid_area": null,
            "grid_auto_columns": null,
            "grid_auto_flow": null,
            "grid_auto_rows": null,
            "grid_column": null,
            "grid_gap": null,
            "grid_row": null,
            "grid_template_areas": null,
            "grid_template_columns": null,
            "grid_template_rows": null,
            "height": null,
            "justify_content": null,
            "justify_items": null,
            "left": null,
            "margin": null,
            "max_height": null,
            "max_width": null,
            "min_height": null,
            "min_width": null,
            "object_fit": null,
            "object_position": null,
            "order": null,
            "overflow": null,
            "overflow_x": null,
            "overflow_y": null,
            "padding": null,
            "right": null,
            "top": null,
            "visibility": null,
            "width": null
          }
        },
        "3e9349eb88dd41a0a7035098197781c7": {
          "model_module": "@jupyter-widgets/controls",
          "model_module_version": "1.5.0",
          "model_name": "HTMLModel",
          "state": {
            "_dom_classes": [],
            "_model_module": "@jupyter-widgets/controls",
            "_model_module_version": "1.5.0",
            "_model_name": "HTMLModel",
            "_view_count": null,
            "_view_module": "@jupyter-widgets/controls",
            "_view_module_version": "1.5.0",
            "_view_name": "HTMLView",
            "description": "",
            "description_tooltip": null,
            "layout": "IPY_MODEL_541c9e55cca24f00b3fafabd0625e039",
            "placeholder": "​",
            "style": "IPY_MODEL_275f372f255544edb92b1af0a1b6b46a",
            "value": "Render widgets:   0%"
          }
        },
        "541c9e55cca24f00b3fafabd0625e039": {
          "model_module": "@jupyter-widgets/base",
          "model_module_version": "1.2.0",
          "model_name": "LayoutModel",
          "state": {
            "_model_module": "@jupyter-widgets/base",
            "_model_module_version": "1.2.0",
            "_model_name": "LayoutModel",
            "_view_count": null,
            "_view_module": "@jupyter-widgets/base",
            "_view_module_version": "1.2.0",
            "_view_name": "LayoutView",
            "align_content": null,
            "align_items": null,
            "align_self": null,
            "border": null,
            "bottom": null,
            "display": null,
            "flex": null,
            "flex_flow": null,
            "grid_area": null,
            "grid_auto_columns": null,
            "grid_auto_flow": null,
            "grid_auto_rows": null,
            "grid_column": null,
            "grid_gap": null,
            "grid_row": null,
            "grid_template_areas": null,
            "grid_template_columns": null,
            "grid_template_rows": null,
            "height": null,
            "justify_content": null,
            "justify_items": null,
            "left": null,
            "margin": null,
            "max_height": null,
            "max_width": null,
            "min_height": null,
            "min_width": null,
            "object_fit": null,
            "object_position": null,
            "order": null,
            "overflow": null,
            "overflow_x": null,
            "overflow_y": null,
            "padding": null,
            "right": null,
            "top": null,
            "visibility": null,
            "width": null
          }
        },
        "59882b5546094069a9053654f49f4a71": {
          "model_module": "@jupyter-widgets/controls",
          "model_module_version": "1.5.0",
          "model_name": "HBoxModel",
          "state": {
            "_dom_classes": [],
            "_model_module": "@jupyter-widgets/controls",
            "_model_module_version": "1.5.0",
            "_model_name": "HBoxModel",
            "_view_count": null,
            "_view_module": "@jupyter-widgets/controls",
            "_view_module_version": "1.5.0",
            "_view_name": "HBoxView",
            "box_style": "",
            "children": [
              "IPY_MODEL_b184f0e27ce54b0fa2d0c357231cedb7",
              "IPY_MODEL_056387f97ab84cf39bff9eb021144a58",
              "IPY_MODEL_d8b53757ca854d189238d8cd3d5c16ad"
            ],
            "layout": "IPY_MODEL_24baf274b4ad42c59c7cd6a4ad899cc6"
          }
        },
        "66282e674446443b963e8a2728beed66": {
          "model_module": "@jupyter-widgets/base",
          "model_module_version": "1.2.0",
          "model_name": "LayoutModel",
          "state": {
            "_model_module": "@jupyter-widgets/base",
            "_model_module_version": "1.2.0",
            "_model_name": "LayoutModel",
            "_view_count": null,
            "_view_module": "@jupyter-widgets/base",
            "_view_module_version": "1.2.0",
            "_view_name": "LayoutView",
            "align_content": null,
            "align_items": null,
            "align_self": null,
            "border": null,
            "bottom": null,
            "display": null,
            "flex": null,
            "flex_flow": null,
            "grid_area": null,
            "grid_auto_columns": null,
            "grid_auto_flow": null,
            "grid_auto_rows": null,
            "grid_column": null,
            "grid_gap": null,
            "grid_row": null,
            "grid_template_areas": null,
            "grid_template_columns": null,
            "grid_template_rows": null,
            "height": null,
            "justify_content": null,
            "justify_items": null,
            "left": null,
            "margin": null,
            "max_height": null,
            "max_width": null,
            "min_height": null,
            "min_width": null,
            "object_fit": null,
            "object_position": null,
            "order": null,
            "overflow": null,
            "overflow_x": null,
            "overflow_y": null,
            "padding": null,
            "right": null,
            "top": null,
            "visibility": null,
            "width": null
          }
        },
        "779aa8553aa0430e95a368cf4a44eca0": {
          "model_module": "@jupyter-widgets/controls",
          "model_module_version": "1.5.0",
          "model_name": "DescriptionStyleModel",
          "state": {
            "_model_module": "@jupyter-widgets/controls",
            "_model_module_version": "1.5.0",
            "_model_name": "DescriptionStyleModel",
            "_view_count": null,
            "_view_module": "@jupyter-widgets/base",
            "_view_module_version": "1.2.0",
            "_view_name": "StyleView",
            "description_width": ""
          }
        },
        "824383c81b084c12b444c57e2a9494a4": {
          "model_module": "@jupyter-widgets/base",
          "model_module_version": "1.2.0",
          "model_name": "LayoutModel",
          "state": {
            "_model_module": "@jupyter-widgets/base",
            "_model_module_version": "1.2.0",
            "_model_name": "LayoutModel",
            "_view_count": null,
            "_view_module": "@jupyter-widgets/base",
            "_view_module_version": "1.2.0",
            "_view_name": "LayoutView",
            "align_content": null,
            "align_items": null,
            "align_self": null,
            "border": null,
            "bottom": null,
            "display": null,
            "flex": null,
            "flex_flow": null,
            "grid_area": null,
            "grid_auto_columns": null,
            "grid_auto_flow": null,
            "grid_auto_rows": null,
            "grid_column": null,
            "grid_gap": null,
            "grid_row": null,
            "grid_template_areas": null,
            "grid_template_columns": null,
            "grid_template_rows": null,
            "height": null,
            "justify_content": null,
            "justify_items": null,
            "left": null,
            "margin": null,
            "max_height": null,
            "max_width": null,
            "min_height": null,
            "min_width": null,
            "object_fit": null,
            "object_position": null,
            "order": null,
            "overflow": null,
            "overflow_x": null,
            "overflow_y": null,
            "padding": null,
            "right": null,
            "top": null,
            "visibility": null,
            "width": null
          }
        },
        "927ddc5102044fabbdec78e746c81db6": {
          "model_module": "@jupyter-widgets/controls",
          "model_module_version": "1.5.0",
          "model_name": "ProgressStyleModel",
          "state": {
            "_model_module": "@jupyter-widgets/controls",
            "_model_module_version": "1.5.0",
            "_model_name": "ProgressStyleModel",
            "_view_count": null,
            "_view_module": "@jupyter-widgets/base",
            "_view_module_version": "1.2.0",
            "_view_name": "StyleView",
            "bar_color": null,
            "description_width": ""
          }
        },
        "94c57c6a74204c9c85a974792ac10c30": {
          "model_module": "@jupyter-widgets/controls",
          "model_module_version": "1.5.0",
          "model_name": "HTMLModel",
          "state": {
            "_dom_classes": [],
            "_model_module": "@jupyter-widgets/controls",
            "_model_module_version": "1.5.0",
            "_model_name": "HTMLModel",
            "_view_count": null,
            "_view_module": "@jupyter-widgets/controls",
            "_view_module_version": "1.5.0",
            "_view_name": "HTMLView",
            "description": "",
            "description_tooltip": null,
            "layout": "IPY_MODEL_824383c81b084c12b444c57e2a9494a4",
            "placeholder": "​",
            "style": "IPY_MODEL_779aa8553aa0430e95a368cf4a44eca0",
            "value": "Generate report structure: 100%"
          }
        },
        "a11c804d4d0b452c91251d8f778b05c0": {
          "model_module": "@jupyter-widgets/controls",
          "model_module_version": "1.5.0",
          "model_name": "HBoxModel",
          "state": {
            "_dom_classes": [],
            "_model_module": "@jupyter-widgets/controls",
            "_model_module_version": "1.5.0",
            "_model_name": "HBoxModel",
            "_view_count": null,
            "_view_module": "@jupyter-widgets/controls",
            "_view_module_version": "1.5.0",
            "_view_name": "HBoxView",
            "box_style": "",
            "children": [
              "IPY_MODEL_3e9349eb88dd41a0a7035098197781c7",
              "IPY_MODEL_0b3807900f874abaad5cc5feeb3a0843",
              "IPY_MODEL_f05f145db1fc443b92743942d65c7c3b"
            ],
            "layout": "IPY_MODEL_2d3f7f2695714dfa8d1c8f15faecde0d"
          }
        },
        "b184f0e27ce54b0fa2d0c357231cedb7": {
          "model_module": "@jupyter-widgets/controls",
          "model_module_version": "1.5.0",
          "model_name": "HTMLModel",
          "state": {
            "_dom_classes": [],
            "_model_module": "@jupyter-widgets/controls",
            "_model_module_version": "1.5.0",
            "_model_name": "HTMLModel",
            "_view_count": null,
            "_view_module": "@jupyter-widgets/controls",
            "_view_module_version": "1.5.0",
            "_view_name": "HTMLView",
            "description": "",
            "description_tooltip": null,
            "layout": "IPY_MODEL_ecb0ac4374d9402dae52ffd4080a17e9",
            "placeholder": "​",
            "style": "IPY_MODEL_fe8edec5001e4190beff28cfc409aba7",
            "value": "Summarize dataset: 100%"
          }
        },
        "b3681211a4db4158b2ac311fb5fd33e3": {
          "model_module": "@jupyter-widgets/base",
          "model_module_version": "1.2.0",
          "model_name": "LayoutModel",
          "state": {
            "_model_module": "@jupyter-widgets/base",
            "_model_module_version": "1.2.0",
            "_model_name": "LayoutModel",
            "_view_count": null,
            "_view_module": "@jupyter-widgets/base",
            "_view_module_version": "1.2.0",
            "_view_name": "LayoutView",
            "align_content": null,
            "align_items": null,
            "align_self": null,
            "border": null,
            "bottom": null,
            "display": null,
            "flex": null,
            "flex_flow": null,
            "grid_area": null,
            "grid_auto_columns": null,
            "grid_auto_flow": null,
            "grid_auto_rows": null,
            "grid_column": null,
            "grid_gap": null,
            "grid_row": null,
            "grid_template_areas": null,
            "grid_template_columns": null,
            "grid_template_rows": null,
            "height": null,
            "justify_content": null,
            "justify_items": null,
            "left": null,
            "margin": null,
            "max_height": null,
            "max_width": null,
            "min_height": null,
            "min_width": null,
            "object_fit": null,
            "object_position": null,
            "order": null,
            "overflow": null,
            "overflow_x": null,
            "overflow_y": null,
            "padding": null,
            "right": null,
            "top": null,
            "visibility": null,
            "width": null
          }
        },
        "b4626218f8074021b3d295f788484731": {
          "model_module": "@jupyter-widgets/controls",
          "model_module_version": "1.5.0",
          "model_name": "DescriptionStyleModel",
          "state": {
            "_model_module": "@jupyter-widgets/controls",
            "_model_module_version": "1.5.0",
            "_model_name": "DescriptionStyleModel",
            "_view_count": null,
            "_view_module": "@jupyter-widgets/base",
            "_view_module_version": "1.2.0",
            "_view_name": "StyleView",
            "description_width": ""
          }
        },
        "bfd2606fb34d48b89dd481a292207dc8": {
          "model_module": "@jupyter-widgets/controls",
          "model_module_version": "1.5.0",
          "model_name": "FloatProgressModel",
          "state": {
            "_dom_classes": [],
            "_model_module": "@jupyter-widgets/controls",
            "_model_module_version": "1.5.0",
            "_model_name": "FloatProgressModel",
            "_view_count": null,
            "_view_module": "@jupyter-widgets/controls",
            "_view_module_version": "1.5.0",
            "_view_name": "ProgressView",
            "bar_style": "success",
            "description": "",
            "description_tooltip": null,
            "layout": "IPY_MODEL_b3681211a4db4158b2ac311fb5fd33e3",
            "max": 1,
            "min": 0,
            "orientation": "horizontal",
            "style": "IPY_MODEL_927ddc5102044fabbdec78e746c81db6",
            "value": 1
          }
        },
        "d02d74951ea143ddb85072b2509a48d8": {
          "model_module": "@jupyter-widgets/controls",
          "model_module_version": "1.5.0",
          "model_name": "HTMLModel",
          "state": {
            "_dom_classes": [],
            "_model_module": "@jupyter-widgets/controls",
            "_model_module_version": "1.5.0",
            "_model_name": "HTMLModel",
            "_view_count": null,
            "_view_module": "@jupyter-widgets/controls",
            "_view_module_version": "1.5.0",
            "_view_name": "HTMLView",
            "description": "",
            "description_tooltip": null,
            "layout": "IPY_MODEL_df2e0482365e4c1d812ebab831ff487c",
            "placeholder": "​",
            "style": "IPY_MODEL_b4626218f8074021b3d295f788484731",
            "value": " 1/1 [00:06&lt;00:00,  6.01s/it]"
          }
        },
        "d4e0df24e05a4943a3d3f823cf647a16": {
          "model_module": "@jupyter-widgets/controls",
          "model_module_version": "1.5.0",
          "model_name": "DescriptionStyleModel",
          "state": {
            "_model_module": "@jupyter-widgets/controls",
            "_model_module_version": "1.5.0",
            "_model_name": "DescriptionStyleModel",
            "_view_count": null,
            "_view_module": "@jupyter-widgets/base",
            "_view_module_version": "1.2.0",
            "_view_name": "StyleView",
            "description_width": ""
          }
        },
        "d8b53757ca854d189238d8cd3d5c16ad": {
          "model_module": "@jupyter-widgets/controls",
          "model_module_version": "1.5.0",
          "model_name": "HTMLModel",
          "state": {
            "_dom_classes": [],
            "_model_module": "@jupyter-widgets/controls",
            "_model_module_version": "1.5.0",
            "_model_name": "HTMLModel",
            "_view_count": null,
            "_view_module": "@jupyter-widgets/controls",
            "_view_module_version": "1.5.0",
            "_view_name": "HTMLView",
            "description": "",
            "description_tooltip": null,
            "layout": "IPY_MODEL_66282e674446443b963e8a2728beed66",
            "placeholder": "​",
            "style": "IPY_MODEL_1c33c5056314425aa9c0fffb77ec5d31",
            "value": " 24/24 [00:06&lt;00:00,  3.80it/s, Completed]"
          }
        },
        "df2e0482365e4c1d812ebab831ff487c": {
          "model_module": "@jupyter-widgets/base",
          "model_module_version": "1.2.0",
          "model_name": "LayoutModel",
          "state": {
            "_model_module": "@jupyter-widgets/base",
            "_model_module_version": "1.2.0",
            "_model_name": "LayoutModel",
            "_view_count": null,
            "_view_module": "@jupyter-widgets/base",
            "_view_module_version": "1.2.0",
            "_view_name": "LayoutView",
            "align_content": null,
            "align_items": null,
            "align_self": null,
            "border": null,
            "bottom": null,
            "display": null,
            "flex": null,
            "flex_flow": null,
            "grid_area": null,
            "grid_auto_columns": null,
            "grid_auto_flow": null,
            "grid_auto_rows": null,
            "grid_column": null,
            "grid_gap": null,
            "grid_row": null,
            "grid_template_areas": null,
            "grid_template_columns": null,
            "grid_template_rows": null,
            "height": null,
            "justify_content": null,
            "justify_items": null,
            "left": null,
            "margin": null,
            "max_height": null,
            "max_width": null,
            "min_height": null,
            "min_width": null,
            "object_fit": null,
            "object_position": null,
            "order": null,
            "overflow": null,
            "overflow_x": null,
            "overflow_y": null,
            "padding": null,
            "right": null,
            "top": null,
            "visibility": null,
            "width": null
          }
        },
        "ecb0ac4374d9402dae52ffd4080a17e9": {
          "model_module": "@jupyter-widgets/base",
          "model_module_version": "1.2.0",
          "model_name": "LayoutModel",
          "state": {
            "_model_module": "@jupyter-widgets/base",
            "_model_module_version": "1.2.0",
            "_model_name": "LayoutModel",
            "_view_count": null,
            "_view_module": "@jupyter-widgets/base",
            "_view_module_version": "1.2.0",
            "_view_name": "LayoutView",
            "align_content": null,
            "align_items": null,
            "align_self": null,
            "border": null,
            "bottom": null,
            "display": null,
            "flex": null,
            "flex_flow": null,
            "grid_area": null,
            "grid_auto_columns": null,
            "grid_auto_flow": null,
            "grid_auto_rows": null,
            "grid_column": null,
            "grid_gap": null,
            "grid_row": null,
            "grid_template_areas": null,
            "grid_template_columns": null,
            "grid_template_rows": null,
            "height": null,
            "justify_content": null,
            "justify_items": null,
            "left": null,
            "margin": null,
            "max_height": null,
            "max_width": null,
            "min_height": null,
            "min_width": null,
            "object_fit": null,
            "object_position": null,
            "order": null,
            "overflow": null,
            "overflow_x": null,
            "overflow_y": null,
            "padding": null,
            "right": null,
            "top": null,
            "visibility": null,
            "width": null
          }
        },
        "f05f145db1fc443b92743942d65c7c3b": {
          "model_module": "@jupyter-widgets/controls",
          "model_module_version": "1.5.0",
          "model_name": "HTMLModel",
          "state": {
            "_dom_classes": [],
            "_model_module": "@jupyter-widgets/controls",
            "_model_module_version": "1.5.0",
            "_model_name": "HTMLModel",
            "_view_count": null,
            "_view_module": "@jupyter-widgets/controls",
            "_view_module_version": "1.5.0",
            "_view_name": "HTMLView",
            "description": "",
            "description_tooltip": null,
            "layout": "IPY_MODEL_3dc7cf050cbb4432b30ff5874bdf896a",
            "placeholder": "​",
            "style": "IPY_MODEL_d4e0df24e05a4943a3d3f823cf647a16",
            "value": " 0/1 [00:00&lt;?, ?it/s]"
          }
        },
        "f17886ff23834728aeb863505cabb9a4": {
          "model_module": "@jupyter-widgets/base",
          "model_module_version": "1.2.0",
          "model_name": "LayoutModel",
          "state": {
            "_model_module": "@jupyter-widgets/base",
            "_model_module_version": "1.2.0",
            "_model_name": "LayoutModel",
            "_view_count": null,
            "_view_module": "@jupyter-widgets/base",
            "_view_module_version": "1.2.0",
            "_view_name": "LayoutView",
            "align_content": null,
            "align_items": null,
            "align_self": null,
            "border": null,
            "bottom": null,
            "display": null,
            "flex": null,
            "flex_flow": null,
            "grid_area": null,
            "grid_auto_columns": null,
            "grid_auto_flow": null,
            "grid_auto_rows": null,
            "grid_column": null,
            "grid_gap": null,
            "grid_row": null,
            "grid_template_areas": null,
            "grid_template_columns": null,
            "grid_template_rows": null,
            "height": null,
            "justify_content": null,
            "justify_items": null,
            "left": null,
            "margin": null,
            "max_height": null,
            "max_width": null,
            "min_height": null,
            "min_width": null,
            "object_fit": null,
            "object_position": null,
            "order": null,
            "overflow": null,
            "overflow_x": null,
            "overflow_y": null,
            "padding": null,
            "right": null,
            "top": null,
            "visibility": null,
            "width": null
          }
        },
        "fc930eec8a24497ea8fc057133424d90": {
          "model_module": "@jupyter-widgets/controls",
          "model_module_version": "1.5.0",
          "model_name": "ProgressStyleModel",
          "state": {
            "_model_module": "@jupyter-widgets/controls",
            "_model_module_version": "1.5.0",
            "_model_name": "ProgressStyleModel",
            "_view_count": null,
            "_view_module": "@jupyter-widgets/base",
            "_view_module_version": "1.2.0",
            "_view_name": "StyleView",
            "bar_color": null,
            "description_width": ""
          }
        },
        "fe8edec5001e4190beff28cfc409aba7": {
          "model_module": "@jupyter-widgets/controls",
          "model_module_version": "1.5.0",
          "model_name": "DescriptionStyleModel",
          "state": {
            "_model_module": "@jupyter-widgets/controls",
            "_model_module_version": "1.5.0",
            "_model_name": "DescriptionStyleModel",
            "_view_count": null,
            "_view_module": "@jupyter-widgets/base",
            "_view_module_version": "1.2.0",
            "_view_name": "StyleView",
            "description_width": ""
          }
        }
      }
    }
  },
  "nbformat": 4,
  "nbformat_minor": 5
}
